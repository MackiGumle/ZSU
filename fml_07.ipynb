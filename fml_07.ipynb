{
 "cells": [
  {
   "cell_type": "markdown",
   "id": "30b61190-61c1-4dd2-a9ec-acbadc8a52ef",
   "metadata": {
    "id": "30b61190-61c1-4dd2-a9ec-acbadc8a52ef",
    "tags": []
   },
   "source": [
    "# Fundamentals of Machine Learning - Exercise 7\n",
    "Goal of the excercise is to code selected part of the Decision tree algorithm which is focused on the optimum split part using gini index.\n",
    "\n",
    "After that the scikit-learn implementation of the Decision tree basic usage will be demonstrated.\n",
    "\n",
    "![meme02](https://github.com/rasvob/VSB-FEI-Fundamentals-of-Machine-Learning-Exercises/blob/master/images/fml_07_meme_02.jpg?raw=true)\n"
   ]
  },
  {
   "cell_type": "code",
   "execution_count": null,
   "id": "a70c5553-ad01-4d43-93fb-50c085f09a64",
   "metadata": {
    "id": "a70c5553-ad01-4d43-93fb-50c085f09a64"
   },
   "outputs": [],
   "source": [
    "import numpy as np\n",
    "import pandas as pd\n",
    "import seaborn as sns\n",
    "import matplotlib.pyplot as plt\n",
    "import math"
   ]
  },
  {
   "cell_type": "markdown",
   "id": "2d685ada-68b5-474a-84d5-5bfacd4a9eca",
   "metadata": {
    "id": "2d685ada-68b5-474a-84d5-5bfacd4a9eca",
    "tags": []
   },
   "source": [
    "## Load the *Iris* dataset\n",
    "https://archive.ics.uci.edu/dataset/53/iris\n",
    "* One of the earliest datasets used in the literature on classification methods and widely used in statistics and machine learning.\n",
    "* The data set contains 3 classes of 50 instances each, where each class refers to a type of iris plant.\n",
    "* One class is linearly separable from the other 2 - the latter are not linearly separable from each other.uted?"
   ]
  },
  {
   "cell_type": "markdown",
   "id": "d5164551-7881-46fc-84b9-85781099fd8a",
   "metadata": {
    "id": "d5164551-7881-46fc-84b9-85781099fd8a"
   },
   "source": [
    "|Variable Name | Role | Type | Units |\n",
    "|:-------|:-------|:-------|:-------|\n",
    "|sepal length | Feature | Continuous | cm |\n",
    "|sepal width | Feature | Continuous | cm |\n",
    "|petal length | Feature | Continuous | cm |\n",
    "|petal width | Feature | Continuous | cm |\n",
    "|class | Target | Categorical | Iris Setosa, Iris Versicolour, or Iris Virginica |"
   ]
  },
  {
   "cell_type": "code",
   "execution_count": null,
   "id": "0b9043cd-4e41-40b0-93e1-712d94d122b3",
   "metadata": {
    "colab": {
     "base_uri": "https://localhost:8080/",
     "height": 443
    },
    "executionInfo": {
     "elapsed": 541,
     "status": "ok",
     "timestamp": 1730970269526,
     "user": {
      "displayName": "HeXaMeThYlEnTrIpEr0x0dIaMiN",
      "userId": "15629405324849936436"
     },
     "user_tz": -60
    },
    "id": "0b9043cd-4e41-40b0-93e1-712d94d122b3",
    "outputId": "e205f05c-33ca-45fb-b832-632c45326df3"
   },
   "outputs": [
    {
     "data": {
      "application/vnd.google.colaboratory.intrinsic+json": {
       "summary": "{\n  \"name\": \"df\",\n  \"rows\": 150,\n  \"fields\": [\n    {\n      \"column\": \"sepal_length\",\n      \"properties\": {\n        \"dtype\": \"number\",\n        \"std\": 0.8280661279778629,\n        \"min\": 4.3,\n        \"max\": 7.9,\n        \"num_unique_values\": 35,\n        \"samples\": [\n          6.2,\n          4.5,\n          5.6\n        ],\n        \"semantic_type\": \"\",\n        \"description\": \"\"\n      }\n    },\n    {\n      \"column\": \"sepal_width\",\n      \"properties\": {\n        \"dtype\": \"number\",\n        \"std\": 0.4335943113621737,\n        \"min\": 2.0,\n        \"max\": 4.4,\n        \"num_unique_values\": 23,\n        \"samples\": [\n          2.3,\n          4.0,\n          3.5\n        ],\n        \"semantic_type\": \"\",\n        \"description\": \"\"\n      }\n    },\n    {\n      \"column\": \"petal_length\",\n      \"properties\": {\n        \"dtype\": \"number\",\n        \"std\": 1.7644204199522617,\n        \"min\": 1.0,\n        \"max\": 6.9,\n        \"num_unique_values\": 43,\n        \"samples\": [\n          6.7,\n          3.8,\n          3.7\n        ],\n        \"semantic_type\": \"\",\n        \"description\": \"\"\n      }\n    },\n    {\n      \"column\": \"petal_width\",\n      \"properties\": {\n        \"dtype\": \"number\",\n        \"std\": 0.7631607417008414,\n        \"min\": 0.1,\n        \"max\": 2.5,\n        \"num_unique_values\": 22,\n        \"samples\": [\n          0.2,\n          1.2,\n          1.3\n        ],\n        \"semantic_type\": \"\",\n        \"description\": \"\"\n      }\n    },\n    {\n      \"column\": \"species\",\n      \"properties\": {\n        \"dtype\": \"category\",\n        \"num_unique_values\": 3,\n        \"samples\": [\n          \"setosa\",\n          \"versicolor\",\n          \"virginica\"\n        ],\n        \"semantic_type\": \"\",\n        \"description\": \"\"\n      }\n    }\n  ]\n}",
       "type": "dataframe",
       "variable_name": "df"
      },
      "text/html": [
       "\n",
       "  <div id=\"df-71520040-e34b-412b-b988-eda39f5c5d22\" class=\"colab-df-container\">\n",
       "    <div>\n",
       "<style scoped>\n",
       "    .dataframe tbody tr th:only-of-type {\n",
       "        vertical-align: middle;\n",
       "    }\n",
       "\n",
       "    .dataframe tbody tr th {\n",
       "        vertical-align: top;\n",
       "    }\n",
       "\n",
       "    .dataframe thead th {\n",
       "        text-align: right;\n",
       "    }\n",
       "</style>\n",
       "<table border=\"1\" class=\"dataframe\">\n",
       "  <thead>\n",
       "    <tr style=\"text-align: right;\">\n",
       "      <th></th>\n",
       "      <th>sepal_length</th>\n",
       "      <th>sepal_width</th>\n",
       "      <th>petal_length</th>\n",
       "      <th>petal_width</th>\n",
       "      <th>species</th>\n",
       "    </tr>\n",
       "  </thead>\n",
       "  <tbody>\n",
       "    <tr>\n",
       "      <th>0</th>\n",
       "      <td>5.1</td>\n",
       "      <td>3.5</td>\n",
       "      <td>1.4</td>\n",
       "      <td>0.2</td>\n",
       "      <td>setosa</td>\n",
       "    </tr>\n",
       "    <tr>\n",
       "      <th>1</th>\n",
       "      <td>4.9</td>\n",
       "      <td>3.0</td>\n",
       "      <td>1.4</td>\n",
       "      <td>0.2</td>\n",
       "      <td>setosa</td>\n",
       "    </tr>\n",
       "    <tr>\n",
       "      <th>2</th>\n",
       "      <td>4.7</td>\n",
       "      <td>3.2</td>\n",
       "      <td>1.3</td>\n",
       "      <td>0.2</td>\n",
       "      <td>setosa</td>\n",
       "    </tr>\n",
       "    <tr>\n",
       "      <th>3</th>\n",
       "      <td>4.6</td>\n",
       "      <td>3.1</td>\n",
       "      <td>1.5</td>\n",
       "      <td>0.2</td>\n",
       "      <td>setosa</td>\n",
       "    </tr>\n",
       "    <tr>\n",
       "      <th>4</th>\n",
       "      <td>5.0</td>\n",
       "      <td>3.6</td>\n",
       "      <td>1.4</td>\n",
       "      <td>0.2</td>\n",
       "      <td>setosa</td>\n",
       "    </tr>\n",
       "    <tr>\n",
       "      <th>...</th>\n",
       "      <td>...</td>\n",
       "      <td>...</td>\n",
       "      <td>...</td>\n",
       "      <td>...</td>\n",
       "      <td>...</td>\n",
       "    </tr>\n",
       "    <tr>\n",
       "      <th>145</th>\n",
       "      <td>6.7</td>\n",
       "      <td>3.0</td>\n",
       "      <td>5.2</td>\n",
       "      <td>2.3</td>\n",
       "      <td>virginica</td>\n",
       "    </tr>\n",
       "    <tr>\n",
       "      <th>146</th>\n",
       "      <td>6.3</td>\n",
       "      <td>2.5</td>\n",
       "      <td>5.0</td>\n",
       "      <td>1.9</td>\n",
       "      <td>virginica</td>\n",
       "    </tr>\n",
       "    <tr>\n",
       "      <th>147</th>\n",
       "      <td>6.5</td>\n",
       "      <td>3.0</td>\n",
       "      <td>5.2</td>\n",
       "      <td>2.0</td>\n",
       "      <td>virginica</td>\n",
       "    </tr>\n",
       "    <tr>\n",
       "      <th>148</th>\n",
       "      <td>6.2</td>\n",
       "      <td>3.4</td>\n",
       "      <td>5.4</td>\n",
       "      <td>2.3</td>\n",
       "      <td>virginica</td>\n",
       "    </tr>\n",
       "    <tr>\n",
       "      <th>149</th>\n",
       "      <td>5.9</td>\n",
       "      <td>3.0</td>\n",
       "      <td>5.1</td>\n",
       "      <td>1.8</td>\n",
       "      <td>virginica</td>\n",
       "    </tr>\n",
       "  </tbody>\n",
       "</table>\n",
       "<p>150 rows × 5 columns</p>\n",
       "</div>\n",
       "    <div class=\"colab-df-buttons\">\n",
       "\n",
       "  <div class=\"colab-df-container\">\n",
       "    <button class=\"colab-df-convert\" onclick=\"convertToInteractive('df-71520040-e34b-412b-b988-eda39f5c5d22')\"\n",
       "            title=\"Convert this dataframe to an interactive table.\"\n",
       "            style=\"display:none;\">\n",
       "\n",
       "  <svg xmlns=\"http://www.w3.org/2000/svg\" height=\"24px\" viewBox=\"0 -960 960 960\">\n",
       "    <path d=\"M120-120v-720h720v720H120Zm60-500h600v-160H180v160Zm220 220h160v-160H400v160Zm0 220h160v-160H400v160ZM180-400h160v-160H180v160Zm440 0h160v-160H620v160ZM180-180h160v-160H180v160Zm440 0h160v-160H620v160Z\"/>\n",
       "  </svg>\n",
       "    </button>\n",
       "\n",
       "  <style>\n",
       "    .colab-df-container {\n",
       "      display:flex;\n",
       "      gap: 12px;\n",
       "    }\n",
       "\n",
       "    .colab-df-convert {\n",
       "      background-color: #E8F0FE;\n",
       "      border: none;\n",
       "      border-radius: 50%;\n",
       "      cursor: pointer;\n",
       "      display: none;\n",
       "      fill: #1967D2;\n",
       "      height: 32px;\n",
       "      padding: 0 0 0 0;\n",
       "      width: 32px;\n",
       "    }\n",
       "\n",
       "    .colab-df-convert:hover {\n",
       "      background-color: #E2EBFA;\n",
       "      box-shadow: 0px 1px 2px rgba(60, 64, 67, 0.3), 0px 1px 3px 1px rgba(60, 64, 67, 0.15);\n",
       "      fill: #174EA6;\n",
       "    }\n",
       "\n",
       "    .colab-df-buttons div {\n",
       "      margin-bottom: 4px;\n",
       "    }\n",
       "\n",
       "    [theme=dark] .colab-df-convert {\n",
       "      background-color: #3B4455;\n",
       "      fill: #D2E3FC;\n",
       "    }\n",
       "\n",
       "    [theme=dark] .colab-df-convert:hover {\n",
       "      background-color: #434B5C;\n",
       "      box-shadow: 0px 1px 3px 1px rgba(0, 0, 0, 0.15);\n",
       "      filter: drop-shadow(0px 1px 2px rgba(0, 0, 0, 0.3));\n",
       "      fill: #FFFFFF;\n",
       "    }\n",
       "  </style>\n",
       "\n",
       "    <script>\n",
       "      const buttonEl =\n",
       "        document.querySelector('#df-71520040-e34b-412b-b988-eda39f5c5d22 button.colab-df-convert');\n",
       "      buttonEl.style.display =\n",
       "        google.colab.kernel.accessAllowed ? 'block' : 'none';\n",
       "\n",
       "      async function convertToInteractive(key) {\n",
       "        const element = document.querySelector('#df-71520040-e34b-412b-b988-eda39f5c5d22');\n",
       "        const dataTable =\n",
       "          await google.colab.kernel.invokeFunction('convertToInteractive',\n",
       "                                                    [key], {});\n",
       "        if (!dataTable) return;\n",
       "\n",
       "        const docLinkHtml = 'Like what you see? Visit the ' +\n",
       "          '<a target=\"_blank\" href=https://colab.research.google.com/notebooks/data_table.ipynb>data table notebook</a>'\n",
       "          + ' to learn more about interactive tables.';\n",
       "        element.innerHTML = '';\n",
       "        dataTable['output_type'] = 'display_data';\n",
       "        await google.colab.output.renderOutput(dataTable, element);\n",
       "        const docLink = document.createElement('div');\n",
       "        docLink.innerHTML = docLinkHtml;\n",
       "        element.appendChild(docLink);\n",
       "      }\n",
       "    </script>\n",
       "  </div>\n",
       "\n",
       "\n",
       "<div id=\"df-a8b32845-8d4e-464a-b58a-0367b1523307\">\n",
       "  <button class=\"colab-df-quickchart\" onclick=\"quickchart('df-a8b32845-8d4e-464a-b58a-0367b1523307')\"\n",
       "            title=\"Suggest charts\"\n",
       "            style=\"display:none;\">\n",
       "\n",
       "<svg xmlns=\"http://www.w3.org/2000/svg\" height=\"24px\"viewBox=\"0 0 24 24\"\n",
       "     width=\"24px\">\n",
       "    <g>\n",
       "        <path d=\"M19 3H5c-1.1 0-2 .9-2 2v14c0 1.1.9 2 2 2h14c1.1 0 2-.9 2-2V5c0-1.1-.9-2-2-2zM9 17H7v-7h2v7zm4 0h-2V7h2v10zm4 0h-2v-4h2v4z\"/>\n",
       "    </g>\n",
       "</svg>\n",
       "  </button>\n",
       "\n",
       "<style>\n",
       "  .colab-df-quickchart {\n",
       "      --bg-color: #E8F0FE;\n",
       "      --fill-color: #1967D2;\n",
       "      --hover-bg-color: #E2EBFA;\n",
       "      --hover-fill-color: #174EA6;\n",
       "      --disabled-fill-color: #AAA;\n",
       "      --disabled-bg-color: #DDD;\n",
       "  }\n",
       "\n",
       "  [theme=dark] .colab-df-quickchart {\n",
       "      --bg-color: #3B4455;\n",
       "      --fill-color: #D2E3FC;\n",
       "      --hover-bg-color: #434B5C;\n",
       "      --hover-fill-color: #FFFFFF;\n",
       "      --disabled-bg-color: #3B4455;\n",
       "      --disabled-fill-color: #666;\n",
       "  }\n",
       "\n",
       "  .colab-df-quickchart {\n",
       "    background-color: var(--bg-color);\n",
       "    border: none;\n",
       "    border-radius: 50%;\n",
       "    cursor: pointer;\n",
       "    display: none;\n",
       "    fill: var(--fill-color);\n",
       "    height: 32px;\n",
       "    padding: 0;\n",
       "    width: 32px;\n",
       "  }\n",
       "\n",
       "  .colab-df-quickchart:hover {\n",
       "    background-color: var(--hover-bg-color);\n",
       "    box-shadow: 0 1px 2px rgba(60, 64, 67, 0.3), 0 1px 3px 1px rgba(60, 64, 67, 0.15);\n",
       "    fill: var(--button-hover-fill-color);\n",
       "  }\n",
       "\n",
       "  .colab-df-quickchart-complete:disabled,\n",
       "  .colab-df-quickchart-complete:disabled:hover {\n",
       "    background-color: var(--disabled-bg-color);\n",
       "    fill: var(--disabled-fill-color);\n",
       "    box-shadow: none;\n",
       "  }\n",
       "\n",
       "  .colab-df-spinner {\n",
       "    border: 2px solid var(--fill-color);\n",
       "    border-color: transparent;\n",
       "    border-bottom-color: var(--fill-color);\n",
       "    animation:\n",
       "      spin 1s steps(1) infinite;\n",
       "  }\n",
       "\n",
       "  @keyframes spin {\n",
       "    0% {\n",
       "      border-color: transparent;\n",
       "      border-bottom-color: var(--fill-color);\n",
       "      border-left-color: var(--fill-color);\n",
       "    }\n",
       "    20% {\n",
       "      border-color: transparent;\n",
       "      border-left-color: var(--fill-color);\n",
       "      border-top-color: var(--fill-color);\n",
       "    }\n",
       "    30% {\n",
       "      border-color: transparent;\n",
       "      border-left-color: var(--fill-color);\n",
       "      border-top-color: var(--fill-color);\n",
       "      border-right-color: var(--fill-color);\n",
       "    }\n",
       "    40% {\n",
       "      border-color: transparent;\n",
       "      border-right-color: var(--fill-color);\n",
       "      border-top-color: var(--fill-color);\n",
       "    }\n",
       "    60% {\n",
       "      border-color: transparent;\n",
       "      border-right-color: var(--fill-color);\n",
       "    }\n",
       "    80% {\n",
       "      border-color: transparent;\n",
       "      border-right-color: var(--fill-color);\n",
       "      border-bottom-color: var(--fill-color);\n",
       "    }\n",
       "    90% {\n",
       "      border-color: transparent;\n",
       "      border-bottom-color: var(--fill-color);\n",
       "    }\n",
       "  }\n",
       "</style>\n",
       "\n",
       "  <script>\n",
       "    async function quickchart(key) {\n",
       "      const quickchartButtonEl =\n",
       "        document.querySelector('#' + key + ' button');\n",
       "      quickchartButtonEl.disabled = true;  // To prevent multiple clicks.\n",
       "      quickchartButtonEl.classList.add('colab-df-spinner');\n",
       "      try {\n",
       "        const charts = await google.colab.kernel.invokeFunction(\n",
       "            'suggestCharts', [key], {});\n",
       "      } catch (error) {\n",
       "        console.error('Error during call to suggestCharts:', error);\n",
       "      }\n",
       "      quickchartButtonEl.classList.remove('colab-df-spinner');\n",
       "      quickchartButtonEl.classList.add('colab-df-quickchart-complete');\n",
       "    }\n",
       "    (() => {\n",
       "      let quickchartButtonEl =\n",
       "        document.querySelector('#df-a8b32845-8d4e-464a-b58a-0367b1523307 button');\n",
       "      quickchartButtonEl.style.display =\n",
       "        google.colab.kernel.accessAllowed ? 'block' : 'none';\n",
       "    })();\n",
       "  </script>\n",
       "</div>\n",
       "\n",
       "  <div id=\"id_c778e0b6-67ed-459b-8081-3669c6bb8ad5\">\n",
       "    <style>\n",
       "      .colab-df-generate {\n",
       "        background-color: #E8F0FE;\n",
       "        border: none;\n",
       "        border-radius: 50%;\n",
       "        cursor: pointer;\n",
       "        display: none;\n",
       "        fill: #1967D2;\n",
       "        height: 32px;\n",
       "        padding: 0 0 0 0;\n",
       "        width: 32px;\n",
       "      }\n",
       "\n",
       "      .colab-df-generate:hover {\n",
       "        background-color: #E2EBFA;\n",
       "        box-shadow: 0px 1px 2px rgba(60, 64, 67, 0.3), 0px 1px 3px 1px rgba(60, 64, 67, 0.15);\n",
       "        fill: #174EA6;\n",
       "      }\n",
       "\n",
       "      [theme=dark] .colab-df-generate {\n",
       "        background-color: #3B4455;\n",
       "        fill: #D2E3FC;\n",
       "      }\n",
       "\n",
       "      [theme=dark] .colab-df-generate:hover {\n",
       "        background-color: #434B5C;\n",
       "        box-shadow: 0px 1px 3px 1px rgba(0, 0, 0, 0.15);\n",
       "        filter: drop-shadow(0px 1px 2px rgba(0, 0, 0, 0.3));\n",
       "        fill: #FFFFFF;\n",
       "      }\n",
       "    </style>\n",
       "    <button class=\"colab-df-generate\" onclick=\"generateWithVariable('df')\"\n",
       "            title=\"Generate code using this dataframe.\"\n",
       "            style=\"display:none;\">\n",
       "\n",
       "  <svg xmlns=\"http://www.w3.org/2000/svg\" height=\"24px\"viewBox=\"0 0 24 24\"\n",
       "       width=\"24px\">\n",
       "    <path d=\"M7,19H8.4L18.45,9,17,7.55,7,17.6ZM5,21V16.75L18.45,3.32a2,2,0,0,1,2.83,0l1.4,1.43a1.91,1.91,0,0,1,.58,1.4,1.91,1.91,0,0,1-.58,1.4L9.25,21ZM18.45,9,17,7.55Zm-12,3A5.31,5.31,0,0,0,4.9,8.1,5.31,5.31,0,0,0,1,6.5,5.31,5.31,0,0,0,4.9,4.9,5.31,5.31,0,0,0,6.5,1,5.31,5.31,0,0,0,8.1,4.9,5.31,5.31,0,0,0,12,6.5,5.46,5.46,0,0,0,6.5,12Z\"/>\n",
       "  </svg>\n",
       "    </button>\n",
       "    <script>\n",
       "      (() => {\n",
       "      const buttonEl =\n",
       "        document.querySelector('#id_c778e0b6-67ed-459b-8081-3669c6bb8ad5 button.colab-df-generate');\n",
       "      buttonEl.style.display =\n",
       "        google.colab.kernel.accessAllowed ? 'block' : 'none';\n",
       "\n",
       "      buttonEl.onclick = () => {\n",
       "        google.colab.notebook.generateWithVariable('df');\n",
       "      }\n",
       "      })();\n",
       "    </script>\n",
       "  </div>\n",
       "\n",
       "    </div>\n",
       "  </div>\n"
      ],
      "text/plain": [
       "     sepal_length  sepal_width  petal_length  petal_width    species\n",
       "0             5.1          3.5           1.4          0.2     setosa\n",
       "1             4.9          3.0           1.4          0.2     setosa\n",
       "2             4.7          3.2           1.3          0.2     setosa\n",
       "3             4.6          3.1           1.5          0.2     setosa\n",
       "4             5.0          3.6           1.4          0.2     setosa\n",
       "..            ...          ...           ...          ...        ...\n",
       "145           6.7          3.0           5.2          2.3  virginica\n",
       "146           6.3          2.5           5.0          1.9  virginica\n",
       "147           6.5          3.0           5.2          2.0  virginica\n",
       "148           6.2          3.4           5.4          2.3  virginica\n",
       "149           5.9          3.0           5.1          1.8  virginica\n",
       "\n",
       "[150 rows x 5 columns]"
      ]
     },
     "execution_count": 69,
     "metadata": {},
     "output_type": "execute_result"
    }
   ],
   "source": [
    "df = pd.read_csv('https://github.com/rasvob/VSB-FEI-Fundamentals-of-Machine-Learning-Exercises/raw/master/datasets/iris.csv')\n",
    "df"
   ]
  },
  {
   "cell_type": "markdown",
   "id": "876ad5c0-86b3-4f28-8d5c-b13f8814c5d3",
   "metadata": {
    "id": "876ad5c0-86b3-4f28-8d5c-b13f8814c5d3"
   },
   "source": [
    "# 💡 Let's take a look at the data first\n",
    "* 🔎 Do you have an idea how would you divide the data into groupd based on the assigned classed by vertical or horizontal lines?"
   ]
  },
  {
   "cell_type": "code",
   "execution_count": null,
   "id": "a226485c-3300-436b-a05b-2761dd04ede3",
   "metadata": {
    "colab": {
     "base_uri": "https://localhost:8080/",
     "height": 490
    },
    "executionInfo": {
     "elapsed": 628,
     "status": "ok",
     "timestamp": 1730970270135,
     "user": {
      "displayName": "HeXaMeThYlEnTrIpEr0x0dIaMiN",
      "userId": "15629405324849936436"
     },
     "user_tz": -60
    },
    "id": "a226485c-3300-436b-a05b-2761dd04ede3",
    "outputId": "991b5849-3a3e-4a2b-c85d-acc4a7c005ee"
   },
   "outputs": [
    {
     "data": {
      "text/plain": [
       "<Axes: xlabel='sepal_length', ylabel='sepal_width'>"
      ]
     },
     "execution_count": 70,
     "metadata": {},
     "output_type": "execute_result"
    },
    {
     "data": {
      "image/png": "[encoded data removed]",
      "text/plain": [
       "<Figure size 640x480 with 1 Axes>"
      ]
     },
     "metadata": {},
     "output_type": "display_data"
    }
   ],
   "source": [
    "sns.scatterplot(data = df, x='sepal_length', y='sepal_width', hue='species')"
   ]
  },
  {
   "cell_type": "markdown",
   "id": "120d6aec-119b-49c3-bfed-fe2c290359ad",
   "metadata": {
    "id": "120d6aec-119b-49c3-bfed-fe2c290359ad"
   },
   "source": [
    "# And now? 😊"
   ]
  },
  {
   "cell_type": "code",
   "execution_count": null,
   "id": "aaf18814-5547-48f8-92c1-3f7ead6a9e67",
   "metadata": {
    "colab": {
     "base_uri": "https://localhost:8080/",
     "height": 488
    },
    "executionInfo": {
     "elapsed": 40,
     "status": "ok",
     "timestamp": 1730970270136,
     "user": {
      "displayName": "HeXaMeThYlEnTrIpEr0x0dIaMiN",
      "userId": "15629405324849936436"
     },
     "user_tz": -60
    },
    "id": "aaf18814-5547-48f8-92c1-3f7ead6a9e67",
    "outputId": "d8423be1-452b-495a-94d7-db535970f48b"
   },
   "outputs": [
    {
     "data": {
      "text/plain": [
       "<Axes: xlabel='petal_length', ylabel='petal_width'>"
      ]
     },
     "execution_count": 71,
     "metadata": {},
     "output_type": "execute_result"
    },
    {
     "data": {
      "image/png": "[encoded data removed]",
      "text/plain": [
       "<Figure size 640x480 with 1 Axes>"
      ]
     },
     "metadata": {},
     "output_type": "display_data"
    }
   ],
   "source": [
    "sns.scatterplot(data = df, x='petal_length', y='petal_width', hue='species')"
   ]
  },
  {
   "cell_type": "markdown",
   "id": "54cd1e35-c508-4ff4-a42c-0679d5bd67ed",
   "metadata": {
    "id": "54cd1e35-c508-4ff4-a42c-0679d5bd67ed"
   },
   "source": [
    "# Also it's always reasonable to take a look at the number of classes in the dataset\n",
    "* 💡You need to know beforehand about missing values or imbalance of labels"
   ]
  },
  {
   "cell_type": "code",
   "execution_count": null,
   "id": "be1dfcb0-ac1c-4271-986a-fc5c017c760d",
   "metadata": {
    "colab": {
     "base_uri": "https://localhost:8080/",
     "height": 229
    },
    "executionInfo": {
     "elapsed": 31,
     "status": "ok",
     "timestamp": 1730970270136,
     "user": {
      "displayName": "HeXaMeThYlEnTrIpEr0x0dIaMiN",
      "userId": "15629405324849936436"
     },
     "user_tz": -60
    },
    "id": "be1dfcb0-ac1c-4271-986a-fc5c017c760d",
    "outputId": "0ba1bc1e-34b9-4f22-a6bd-ca8bc32bd01b"
   },
   "outputs": [
    {
     "data": {
      "text/html": [
       "<div>\n",
       "<style scoped>\n",
       "    .dataframe tbody tr th:only-of-type {\n",
       "        vertical-align: middle;\n",
       "    }\n",
       "\n",
       "    .dataframe tbody tr th {\n",
       "        vertical-align: top;\n",
       "    }\n",
       "\n",
       "    .dataframe thead th {\n",
       "        text-align: right;\n",
       "    }\n",
       "</style>\n",
       "<table border=\"1\" class=\"dataframe\">\n",
       "  <thead>\n",
       "    <tr style=\"text-align: right;\">\n",
       "      <th></th>\n",
       "      <th>count</th>\n",
       "    </tr>\n",
       "    <tr>\n",
       "      <th>species</th>\n",
       "      <th></th>\n",
       "    </tr>\n",
       "  </thead>\n",
       "  <tbody>\n",
       "    <tr>\n",
       "      <th>setosa</th>\n",
       "      <td>50</td>\n",
       "    </tr>\n",
       "    <tr>\n",
       "      <th>versicolor</th>\n",
       "      <td>50</td>\n",
       "    </tr>\n",
       "    <tr>\n",
       "      <th>virginica</th>\n",
       "      <td>50</td>\n",
       "    </tr>\n",
       "  </tbody>\n",
       "</table>\n",
       "</div><br><label><b>dtype:</b> int64</label>"
      ],
      "text/plain": [
       "species\n",
       "setosa        50\n",
       "versicolor    50\n",
       "virginica     50\n",
       "Name: count, dtype: int64"
      ]
     },
     "execution_count": 72,
     "metadata": {},
     "output_type": "execute_result"
    }
   ],
   "source": [
    "df.species.value_counts()"
   ]
  },
  {
   "cell_type": "markdown",
   "id": "85aa015b-a8e7-4a9a-857c-c11a2007adcc",
   "metadata": {
    "id": "85aa015b-a8e7-4a9a-857c-c11a2007adcc"
   },
   "source": [
    "# 🔎 What is the purpose of the classification algorithms?\n",
    "* How the algorithms work in general?\n",
    "* How does **Decision tree** work in a very simple terms?\n",
    "    * What is a split?\n",
    "        * 🔎 Is the data separated only by vertical/horizontal lines or are there any inclined straight lines or curves used?\n",
    "    * How can we decide on **which feature** and on **which condition** we should split?\n",
    "    * What is in the leaf of the **Decision tree**?\n",
    "        * **When** will the decision tree **stop the growth**?"
   ]
  },
  {
   "cell_type": "markdown",
   "id": "78504964-e946-44f5-b321-b121d3f019e7",
   "metadata": {
    "id": "78504964-e946-44f5-b321-b121d3f019e7"
   },
   "source": [
    "# 📊 Gini Index\n",
    "* What does it tell us?\n",
    "    * What is the **minimum** and **maximum** value for 2 classes?\n",
    "    * And for three?\n",
    "    * What result should we expect for the whole data set?\n",
    "\n",
    "## 🚀 Compute the gini index for the whole data set\n",
    "* 💡 Take a look at [these slides](https://github.com/rasvob/VSB-FEI-Fundamentals-of-Machine-Learning-Exercises/blob/master/misc/mad3_07.pdf) for the formulas and examples\n",
    "\n",
    "![meme03](https://github.com/rasvob/VSB-FEI-Fundamentals-of-Machine-Learning-Exercises/blob/master/images/fml_07_meme_03.jpg?raw=true)\n",
    "\n",
    "### Formulas\n",
    "\n",
    "* Gini index:\n",
    "  \n",
    "$$\n",
    "G(S) = 1 - \\sum_{j=1}^{k} p_{j}^{2}\n",
    "$$\n",
    "\n",
    "* where the $p_{j}$  is a fraction of points that belongs to the class j from a set S$"
   ]
  },
  {
   "cell_type": "markdown",
   "id": "68c0aa60-daa9-4acd-81e6-0851d241eb51",
   "metadata": {
    "id": "68c0aa60-daa9-4acd-81e6-0851d241eb51"
   },
   "source": [
    "* Gini impurity:\n",
    "$$\n",
    "G(S \\Rightarrow S_{1},...,S_{r}) = \\sum_{i=1}^{r} \\frac{S_i}{S} G(S_i)\n",
    "$$"
   ]
  },
  {
   "cell_type": "code",
   "execution_count": null,
   "id": "a5822b5c-c463-4875-816d-2ab2f3a2a53b",
   "metadata": {
    "id": "a5822b5c-c463-4875-816d-2ab2f3a2a53b"
   },
   "outputs": [],
   "source": [
    "def gini_index(data: pd.DataFrame):\n",
    "    probs = 0\n",
    "    labels = data.species.unique()\n",
    "    for l in labels:\n",
    "      p = data.loc[data.species == l].shape[0] / data.shape[0]\n",
    "      probs += p ** 2\n",
    "    return 1 - probs"
   ]
  },
  {
   "cell_type": "code",
   "execution_count": null,
   "id": "ee00bd16-1d23-4608-96a3-ebf22f677dbe",
   "metadata": {
    "colab": {
     "base_uri": "https://localhost:8080/"
    },
    "executionInfo": {
     "elapsed": 29,
     "status": "ok",
     "timestamp": 1730970270137,
     "user": {
      "displayName": "HeXaMeThYlEnTrIpEr0x0dIaMiN",
      "userId": "15629405324849936436"
     },
     "user_tz": -60
    },
    "id": "ee00bd16-1d23-4608-96a3-ebf22f677dbe",
    "outputId": "4a2fc69a-3c8b-47a9-b425-2928e64357bd",
    "scrolled": true
   },
   "outputs": [
    {
     "data": {
      "text/plain": [
       "0.6666666666666667"
      ]
     },
     "execution_count": 74,
     "metadata": {},
     "output_type": "execute_result"
    }
   ],
   "source": [
    "gini_index(df)"
   ]
  },
  {
   "cell_type": "markdown",
   "id": "77c091d4-a420-432a-86f0-8ee70272b5b5",
   "metadata": {
    "id": "77c091d4-a420-432a-86f0-8ee70272b5b5",
    "tags": []
   },
   "source": [
    "## 🚀 Take only the *sepal_width* attribute\n",
    "* Try to split the by attribute by value *3.35 (<= 3.35)*\n",
    "* Compute the gini index for the left and the right side of the split\n",
    "    * Left: 0.629\n",
    "    * Right: 0.285\n",
    "* Compute the total gini impurity for this split\n",
    "    * Total: 0.546\n",
    "\n",
    "    \n",
    "**How to solve the example?**\n",
    "$$\n",
    "Gini(left) = 1 - \\left[ \\left(\\frac{45}{114}\\right)^2 + \\left(\\frac{49}{114}\\right)^2 + \\left(\\frac{20}{114}\\right)^2 \\right] = 0.629\n",
    "$$\n",
    "\n",
    "$$\n",
    "Gini(right) = 1 - \\left[ \\left(\\frac{5}{36}\\right)^2 + \\left(\\frac{1}{36}\\right)^2 + \\left(\\frac{30}{36}\\right)^2 \\right] = 0.285\n",
    "$$\n",
    "\n",
    "$$\n",
    "GiniImpurity = \\frac{|df_{left}|}{|df|} * Gini(left) + \\frac{|df_{right}|}{|df|} * Gini(right) =  \\frac{114}{150} * 0.629 + \\frac{36}{150} * 0.285 = 0.546\n",
    "$$\n",
    "\n"
   ]
  },
  {
   "cell_type": "code",
   "execution_count": null,
   "id": "8ae5b4ee-3fc0-4f2b-a2f7-6f6e131341b8",
   "metadata": {
    "colab": {
     "base_uri": "https://localhost:8080/",
     "height": 226
    },
    "executionInfo": {
     "elapsed": 455,
     "status": "ok",
     "timestamp": 1730970270576,
     "user": {
      "displayName": "HeXaMeThYlEnTrIpEr0x0dIaMiN",
      "userId": "15629405324849936436"
     },
     "user_tz": -60
    },
    "id": "8ae5b4ee-3fc0-4f2b-a2f7-6f6e131341b8",
    "outputId": "061e99d0-5200-42b1-ff9f-4ab5f8476594"
   },
   "outputs": [
    {
     "data": {
      "application/vnd.google.colaboratory.intrinsic+json": {
       "summary": "{\n  \"name\": \"df_left\",\n  \"rows\": 114,\n  \"fields\": [\n    {\n      \"column\": \"sepal_length\",\n      \"properties\": {\n        \"dtype\": \"number\",\n        \"std\": 0.8158288875695008,\n        \"min\": 4.3,\n        \"max\": 7.7,\n        \"num_unique_values\": 33,\n        \"samples\": [\n          7.2,\n          6.3,\n          5.4\n        ],\n        \"semantic_type\": \"\",\n        \"description\": \"\"\n      }\n    },\n    {\n      \"column\": \"sepal_width\",\n      \"properties\": {\n        \"dtype\": \"number\",\n        \"std\": 0.28937748044999145,\n        \"min\": 2.0,\n        \"max\": 3.3,\n        \"num_unique_values\": 13,\n        \"samples\": [\n          2.5,\n          2.0,\n          3.0\n        ],\n        \"semantic_type\": \"\",\n        \"description\": \"\"\n      }\n    },\n    {\n      \"column\": \"petal_length\",\n      \"properties\": {\n        \"dtype\": \"number\",\n        \"std\": 1.4988037977319235,\n        \"min\": 1.1,\n        \"max\": 6.9,\n        \"num_unique_values\": 40,\n        \"samples\": [\n          4.8,\n          3.6,\n          4.2\n        ],\n        \"semantic_type\": \"\",\n        \"description\": \"\"\n      }\n    },\n    {\n      \"column\": \"petal_width\",\n      \"properties\": {\n        \"dtype\": \"number\",\n        \"std\": 0.6676549110633726,\n        \"min\": 0.1,\n        \"max\": 2.5,\n        \"num_unique_values\": 20,\n        \"samples\": [\n          0.2,\n          2.0,\n          2.1\n        ],\n        \"semantic_type\": \"\",\n        \"description\": \"\"\n      }\n    },\n    {\n      \"column\": \"species\",\n      \"properties\": {\n        \"dtype\": \"category\",\n        \"num_unique_values\": 3,\n        \"samples\": [\n          \"setosa\",\n          \"versicolor\",\n          \"virginica\"\n        ],\n        \"semantic_type\": \"\",\n        \"description\": \"\"\n      }\n    }\n  ]\n}",
       "type": "dataframe",
       "variable_name": "df_left"
      },
      "text/html": [
       "\n",
       "  <div id=\"df-4798324b-ea73-44b0-b480-878c83bd26e7\" class=\"colab-df-container\">\n",
       "    <div>\n",
       "<style scoped>\n",
       "    .dataframe tbody tr th:only-of-type {\n",
       "        vertical-align: middle;\n",
       "    }\n",
       "\n",
       "    .dataframe tbody tr th {\n",
       "        vertical-align: top;\n",
       "    }\n",
       "\n",
       "    .dataframe thead th {\n",
       "        text-align: right;\n",
       "    }\n",
       "</style>\n",
       "<table border=\"1\" class=\"dataframe\">\n",
       "  <thead>\n",
       "    <tr style=\"text-align: right;\">\n",
       "      <th></th>\n",
       "      <th>sepal_length</th>\n",
       "      <th>sepal_width</th>\n",
       "      <th>petal_length</th>\n",
       "      <th>petal_width</th>\n",
       "      <th>species</th>\n",
       "    </tr>\n",
       "  </thead>\n",
       "  <tbody>\n",
       "    <tr>\n",
       "      <th>1</th>\n",
       "      <td>4.9</td>\n",
       "      <td>3.0</td>\n",
       "      <td>1.4</td>\n",
       "      <td>0.2</td>\n",
       "      <td>setosa</td>\n",
       "    </tr>\n",
       "    <tr>\n",
       "      <th>2</th>\n",
       "      <td>4.7</td>\n",
       "      <td>3.2</td>\n",
       "      <td>1.3</td>\n",
       "      <td>0.2</td>\n",
       "      <td>setosa</td>\n",
       "    </tr>\n",
       "    <tr>\n",
       "      <th>3</th>\n",
       "      <td>4.6</td>\n",
       "      <td>3.1</td>\n",
       "      <td>1.5</td>\n",
       "      <td>0.2</td>\n",
       "      <td>setosa</td>\n",
       "    </tr>\n",
       "    <tr>\n",
       "      <th>8</th>\n",
       "      <td>4.4</td>\n",
       "      <td>2.9</td>\n",
       "      <td>1.4</td>\n",
       "      <td>0.2</td>\n",
       "      <td>setosa</td>\n",
       "    </tr>\n",
       "    <tr>\n",
       "      <th>9</th>\n",
       "      <td>4.9</td>\n",
       "      <td>3.1</td>\n",
       "      <td>1.5</td>\n",
       "      <td>0.1</td>\n",
       "      <td>setosa</td>\n",
       "    </tr>\n",
       "  </tbody>\n",
       "</table>\n",
       "</div>\n",
       "    <div class=\"colab-df-buttons\">\n",
       "\n",
       "  <div class=\"colab-df-container\">\n",
       "    <button class=\"colab-df-convert\" onclick=\"convertToInteractive('df-4798324b-ea73-44b0-b480-878c83bd26e7')\"\n",
       "            title=\"Convert this dataframe to an interactive table.\"\n",
       "            style=\"display:none;\">\n",
       "\n",
       "  <svg xmlns=\"http://www.w3.org/2000/svg\" height=\"24px\" viewBox=\"0 -960 960 960\">\n",
       "    <path d=\"M120-120v-720h720v720H120Zm60-500h600v-160H180v160Zm220 220h160v-160H400v160Zm0 220h160v-160H400v160ZM180-400h160v-160H180v160Zm440 0h160v-160H620v160ZM180-180h160v-160H180v160Zm440 0h160v-160H620v160Z\"/>\n",
       "  </svg>\n",
       "    </button>\n",
       "\n",
       "  <style>\n",
       "    .colab-df-container {\n",
       "      display:flex;\n",
       "      gap: 12px;\n",
       "    }\n",
       "\n",
       "    .colab-df-convert {\n",
       "      background-color: #E8F0FE;\n",
       "      border: none;\n",
       "      border-radius: 50%;\n",
       "      cursor: pointer;\n",
       "      display: none;\n",
       "      fill: #1967D2;\n",
       "      height: 32px;\n",
       "      padding: 0 0 0 0;\n",
       "      width: 32px;\n",
       "    }\n",
       "\n",
       "    .colab-df-convert:hover {\n",
       "      background-color: #E2EBFA;\n",
       "      box-shadow: 0px 1px 2px rgba(60, 64, 67, 0.3), 0px 1px 3px 1px rgba(60, 64, 67, 0.15);\n",
       "      fill: #174EA6;\n",
       "    }\n",
       "\n",
       "    .colab-df-buttons div {\n",
       "      margin-bottom: 4px;\n",
       "    }\n",
       "\n",
       "    [theme=dark] .colab-df-convert {\n",
       "      background-color: #3B4455;\n",
       "      fill: #D2E3FC;\n",
       "    }\n",
       "\n",
       "    [theme=dark] .colab-df-convert:hover {\n",
       "      background-color: #434B5C;\n",
       "      box-shadow: 0px 1px 3px 1px rgba(0, 0, 0, 0.15);\n",
       "      filter: drop-shadow(0px 1px 2px rgba(0, 0, 0, 0.3));\n",
       "      fill: #FFFFFF;\n",
       "    }\n",
       "  </style>\n",
       "\n",
       "    <script>\n",
       "      const buttonEl =\n",
       "        document.querySelector('#df-4798324b-ea73-44b0-b480-878c83bd26e7 button.colab-df-convert');\n",
       "      buttonEl.style.display =\n",
       "        google.colab.kernel.accessAllowed ? 'block' : 'none';\n",
       "\n",
       "      async function convertToInteractive(key) {\n",
       "        const element = document.querySelector('#df-4798324b-ea73-44b0-b480-878c83bd26e7');\n",
       "        const dataTable =\n",
       "          await google.colab.kernel.invokeFunction('convertToInteractive',\n",
       "                                                    [key], {});\n",
       "        if (!dataTable) return;\n",
       "\n",
       "        const docLinkHtml = 'Like what you see? Visit the ' +\n",
       "          '<a target=\"_blank\" href=https://colab.research.google.com/notebooks/data_table.ipynb>data table notebook</a>'\n",
       "          + ' to learn more about interactive tables.';\n",
       "        element.innerHTML = '';\n",
       "        dataTable['output_type'] = 'display_data';\n",
       "        await google.colab.output.renderOutput(dataTable, element);\n",
       "        const docLink = document.createElement('div');\n",
       "        docLink.innerHTML = docLinkHtml;\n",
       "        element.appendChild(docLink);\n",
       "      }\n",
       "    </script>\n",
       "  </div>\n",
       "\n",
       "\n",
       "<div id=\"df-a7cae999-9f2d-4c84-b364-fc3b7addcf48\">\n",
       "  <button class=\"colab-df-quickchart\" onclick=\"quickchart('df-a7cae999-9f2d-4c84-b364-fc3b7addcf48')\"\n",
       "            title=\"Suggest charts\"\n",
       "            style=\"display:none;\">\n",
       "\n",
       "<svg xmlns=\"http://www.w3.org/2000/svg\" height=\"24px\"viewBox=\"0 0 24 24\"\n",
       "     width=\"24px\">\n",
       "    <g>\n",
       "        <path d=\"M19 3H5c-1.1 0-2 .9-2 2v14c0 1.1.9 2 2 2h14c1.1 0 2-.9 2-2V5c0-1.1-.9-2-2-2zM9 17H7v-7h2v7zm4 0h-2V7h2v10zm4 0h-2v-4h2v4z\"/>\n",
       "    </g>\n",
       "</svg>\n",
       "  </button>\n",
       "\n",
       "<style>\n",
       "  .colab-df-quickchart {\n",
       "      --bg-color: #E8F0FE;\n",
       "      --fill-color: #1967D2;\n",
       "      --hover-bg-color: #E2EBFA;\n",
       "      --hover-fill-color: #174EA6;\n",
       "      --disabled-fill-color: #AAA;\n",
       "      --disabled-bg-color: #DDD;\n",
       "  }\n",
       "\n",
       "  [theme=dark] .colab-df-quickchart {\n",
       "      --bg-color: #3B4455;\n",
       "      --fill-color: #D2E3FC;\n",
       "      --hover-bg-color: #434B5C;\n",
       "      --hover-fill-color: #FFFFFF;\n",
       "      --disabled-bg-color: #3B4455;\n",
       "      --disabled-fill-color: #666;\n",
       "  }\n",
       "\n",
       "  .colab-df-quickchart {\n",
       "    background-color: var(--bg-color);\n",
       "    border: none;\n",
       "    border-radius: 50%;\n",
       "    cursor: pointer;\n",
       "    display: none;\n",
       "    fill: var(--fill-color);\n",
       "    height: 32px;\n",
       "    padding: 0;\n",
       "    width: 32px;\n",
       "  }\n",
       "\n",
       "  .colab-df-quickchart:hover {\n",
       "    background-color: var(--hover-bg-color);\n",
       "    box-shadow: 0 1px 2px rgba(60, 64, 67, 0.3), 0 1px 3px 1px rgba(60, 64, 67, 0.15);\n",
       "    fill: var(--button-hover-fill-color);\n",
       "  }\n",
       "\n",
       "  .colab-df-quickchart-complete:disabled,\n",
       "  .colab-df-quickchart-complete:disabled:hover {\n",
       "    background-color: var(--disabled-bg-color);\n",
       "    fill: var(--disabled-fill-color);\n",
       "    box-shadow: none;\n",
       "  }\n",
       "\n",
       "  .colab-df-spinner {\n",
       "    border: 2px solid var(--fill-color);\n",
       "    border-color: transparent;\n",
       "    border-bottom-color: var(--fill-color);\n",
       "    animation:\n",
       "      spin 1s steps(1) infinite;\n",
       "  }\n",
       "\n",
       "  @keyframes spin {\n",
       "    0% {\n",
       "      border-color: transparent;\n",
       "      border-bottom-color: var(--fill-color);\n",
       "      border-left-color: var(--fill-color);\n",
       "    }\n",
       "    20% {\n",
       "      border-color: transparent;\n",
       "      border-left-color: var(--fill-color);\n",
       "      border-top-color: var(--fill-color);\n",
       "    }\n",
       "    30% {\n",
       "      border-color: transparent;\n",
       "      border-left-color: var(--fill-color);\n",
       "      border-top-color: var(--fill-color);\n",
       "      border-right-color: var(--fill-color);\n",
       "    }\n",
       "    40% {\n",
       "      border-color: transparent;\n",
       "      border-right-color: var(--fill-color);\n",
       "      border-top-color: var(--fill-color);\n",
       "    }\n",
       "    60% {\n",
       "      border-color: transparent;\n",
       "      border-right-color: var(--fill-color);\n",
       "    }\n",
       "    80% {\n",
       "      border-color: transparent;\n",
       "      border-right-color: var(--fill-color);\n",
       "      border-bottom-color: var(--fill-color);\n",
       "    }\n",
       "    90% {\n",
       "      border-color: transparent;\n",
       "      border-bottom-color: var(--fill-color);\n",
       "    }\n",
       "  }\n",
       "</style>\n",
       "\n",
       "  <script>\n",
       "    async function quickchart(key) {\n",
       "      const quickchartButtonEl =\n",
       "        document.querySelector('#' + key + ' button');\n",
       "      quickchartButtonEl.disabled = true;  // To prevent multiple clicks.\n",
       "      quickchartButtonEl.classList.add('colab-df-spinner');\n",
       "      try {\n",
       "        const charts = await google.colab.kernel.invokeFunction(\n",
       "            'suggestCharts', [key], {});\n",
       "      } catch (error) {\n",
       "        console.error('Error during call to suggestCharts:', error);\n",
       "      }\n",
       "      quickchartButtonEl.classList.remove('colab-df-spinner');\n",
       "      quickchartButtonEl.classList.add('colab-df-quickchart-complete');\n",
       "    }\n",
       "    (() => {\n",
       "      let quickchartButtonEl =\n",
       "        document.querySelector('#df-a7cae999-9f2d-4c84-b364-fc3b7addcf48 button');\n",
       "      quickchartButtonEl.style.display =\n",
       "        google.colab.kernel.accessAllowed ? 'block' : 'none';\n",
       "    })();\n",
       "  </script>\n",
       "</div>\n",
       "\n",
       "    </div>\n",
       "  </div>\n"
      ],
      "text/plain": [
       "   sepal_length  sepal_width  petal_length  petal_width species\n",
       "1           4.9          3.0           1.4          0.2  setosa\n",
       "2           4.7          3.2           1.3          0.2  setosa\n",
       "3           4.6          3.1           1.5          0.2  setosa\n",
       "8           4.4          2.9           1.4          0.2  setosa\n",
       "9           4.9          3.1           1.5          0.1  setosa"
      ]
     },
     "execution_count": 75,
     "metadata": {},
     "output_type": "execute_result"
    }
   ],
   "source": [
    "df_left = df[df.sepal_width <= 3.35]\n",
    "df_left.head()"
   ]
  },
  {
   "cell_type": "code",
   "execution_count": null,
   "id": "ee18e789-7ccc-4140-a58e-46ed5b6bc6ee",
   "metadata": {
    "colab": {
     "base_uri": "https://localhost:8080/"
    },
    "executionInfo": {
     "elapsed": 91,
     "status": "ok",
     "timestamp": 1730970270577,
     "user": {
      "displayName": "HeXaMeThYlEnTrIpEr0x0dIaMiN",
      "userId": "15629405324849936436"
     },
     "user_tz": -60
    },
    "id": "ee18e789-7ccc-4140-a58e-46ed5b6bc6ee",
    "outputId": "d868f029-d6b5-45c2-927b-182dea425b3a"
   },
   "outputs": [
    {
     "data": {
      "text/plain": [
       "(114, 5)"
      ]
     },
     "execution_count": 76,
     "metadata": {},
     "output_type": "execute_result"
    }
   ],
   "source": [
    "df_left.shape"
   ]
  },
  {
   "cell_type": "code",
   "execution_count": null,
   "id": "c75a13f2-b217-463b-b034-9112ac5042fc",
   "metadata": {
    "colab": {
     "base_uri": "https://localhost:8080/",
     "height": 229
    },
    "executionInfo": {
     "elapsed": 79,
     "status": "ok",
     "timestamp": 1730970270577,
     "user": {
      "displayName": "HeXaMeThYlEnTrIpEr0x0dIaMiN",
      "userId": "15629405324849936436"
     },
     "user_tz": -60
    },
    "id": "c75a13f2-b217-463b-b034-9112ac5042fc",
    "outputId": "ac2ae72a-7a2b-4d9a-f43c-41072befb8c2"
   },
   "outputs": [
    {
     "data": {
      "text/html": [
       "<div>\n",
       "<style scoped>\n",
       "    .dataframe tbody tr th:only-of-type {\n",
       "        vertical-align: middle;\n",
       "    }\n",
       "\n",
       "    .dataframe tbody tr th {\n",
       "        vertical-align: top;\n",
       "    }\n",
       "\n",
       "    .dataframe thead th {\n",
       "        text-align: right;\n",
       "    }\n",
       "</style>\n",
       "<table border=\"1\" class=\"dataframe\">\n",
       "  <thead>\n",
       "    <tr style=\"text-align: right;\">\n",
       "      <th></th>\n",
       "      <th>count</th>\n",
       "    </tr>\n",
       "    <tr>\n",
       "      <th>species</th>\n",
       "      <th></th>\n",
       "    </tr>\n",
       "  </thead>\n",
       "  <tbody>\n",
       "    <tr>\n",
       "      <th>versicolor</th>\n",
       "      <td>49</td>\n",
       "    </tr>\n",
       "    <tr>\n",
       "      <th>virginica</th>\n",
       "      <td>45</td>\n",
       "    </tr>\n",
       "    <tr>\n",
       "      <th>setosa</th>\n",
       "      <td>20</td>\n",
       "    </tr>\n",
       "  </tbody>\n",
       "</table>\n",
       "</div><br><label><b>dtype:</b> int64</label>"
      ],
      "text/plain": [
       "species\n",
       "versicolor    49\n",
       "virginica     45\n",
       "setosa        20\n",
       "Name: count, dtype: int64"
      ]
     },
     "execution_count": 77,
     "metadata": {},
     "output_type": "execute_result"
    }
   ],
   "source": [
    "df_left.species.value_counts()"
   ]
  },
  {
   "cell_type": "code",
   "execution_count": null,
   "id": "9328bebc-0933-4829-ab78-cd515cf4cb77",
   "metadata": {
    "colab": {
     "base_uri": "https://localhost:8080/",
     "height": 226
    },
    "executionInfo": {
     "elapsed": 77,
     "status": "ok",
     "timestamp": 1730970270577,
     "user": {
      "displayName": "HeXaMeThYlEnTrIpEr0x0dIaMiN",
      "userId": "15629405324849936436"
     },
     "user_tz": -60
    },
    "id": "9328bebc-0933-4829-ab78-cd515cf4cb77",
    "outputId": "dcded6f9-613d-42ea-9f8e-f9618dd72dc0"
   },
   "outputs": [
    {
     "data": {
      "application/vnd.google.colaboratory.intrinsic+json": {
       "summary": "{\n  \"name\": \"df_right\",\n  \"rows\": 36,\n  \"fields\": [\n    {\n      \"column\": \"sepal_length\",\n      \"properties\": {\n        \"dtype\": \"number\",\n        \"std\": 0.7622595899952213,\n        \"min\": 4.6,\n        \"max\": 7.9,\n        \"num_unique_values\": 16,\n        \"samples\": [\n          5.1,\n          5.0,\n          5.8\n        ],\n        \"semantic_type\": \"\",\n        \"description\": \"\"\n      }\n    },\n    {\n      \"column\": \"sepal_width\",\n      \"properties\": {\n        \"dtype\": \"number\",\n        \"std\": 0.25887424170023754,\n        \"min\": 3.4,\n        \"max\": 4.4,\n        \"num_unique_values\": 10,\n        \"samples\": [\n          4.1,\n          3.6,\n          4.0\n        ],\n        \"semantic_type\": \"\",\n        \"description\": \"\"\n      }\n    },\n    {\n      \"column\": \"petal_length\",\n      \"properties\": {\n        \"dtype\": \"number\",\n        \"std\": 1.6576015375061817,\n        \"min\": 1.0,\n        \"max\": 6.7,\n        \"num_unique_values\": 14,\n        \"samples\": [\n          6.1,\n          6.4,\n          1.4\n        ],\n        \"semantic_type\": \"\",\n        \"description\": \"\"\n      }\n    },\n    {\n      \"column\": \"petal_width\",\n      \"properties\": {\n        \"dtype\": \"number\",\n        \"std\": 0.7328136686879367,\n        \"min\": 0.1,\n        \"max\": 2.5,\n        \"num_unique_values\": 11,\n        \"samples\": [\n          1.6,\n          0.2,\n          2.4\n        ],\n        \"semantic_type\": \"\",\n        \"description\": \"\"\n      }\n    },\n    {\n      \"column\": \"species\",\n      \"properties\": {\n        \"dtype\": \"category\",\n        \"num_unique_values\": 3,\n        \"samples\": [\n          \"setosa\",\n          \"versicolor\",\n          \"virginica\"\n        ],\n        \"semantic_type\": \"\",\n        \"description\": \"\"\n      }\n    }\n  ]\n}",
       "type": "dataframe",
       "variable_name": "df_right"
      },
      "text/html": [
       "\n",
       "  <div id=\"df-88434723-f605-4601-b2c4-2708798ffbc6\" class=\"colab-df-container\">\n",
       "    <div>\n",
       "<style scoped>\n",
       "    .dataframe tbody tr th:only-of-type {\n",
       "        vertical-align: middle;\n",
       "    }\n",
       "\n",
       "    .dataframe tbody tr th {\n",
       "        vertical-align: top;\n",
       "    }\n",
       "\n",
       "    .dataframe thead th {\n",
       "        text-align: right;\n",
       "    }\n",
       "</style>\n",
       "<table border=\"1\" class=\"dataframe\">\n",
       "  <thead>\n",
       "    <tr style=\"text-align: right;\">\n",
       "      <th></th>\n",
       "      <th>sepal_length</th>\n",
       "      <th>sepal_width</th>\n",
       "      <th>petal_length</th>\n",
       "      <th>petal_width</th>\n",
       "      <th>species</th>\n",
       "    </tr>\n",
       "  </thead>\n",
       "  <tbody>\n",
       "    <tr>\n",
       "      <th>0</th>\n",
       "      <td>5.1</td>\n",
       "      <td>3.5</td>\n",
       "      <td>1.4</td>\n",
       "      <td>0.2</td>\n",
       "      <td>setosa</td>\n",
       "    </tr>\n",
       "    <tr>\n",
       "      <th>4</th>\n",
       "      <td>5.0</td>\n",
       "      <td>3.6</td>\n",
       "      <td>1.4</td>\n",
       "      <td>0.2</td>\n",
       "      <td>setosa</td>\n",
       "    </tr>\n",
       "    <tr>\n",
       "      <th>5</th>\n",
       "      <td>5.4</td>\n",
       "      <td>3.9</td>\n",
       "      <td>1.7</td>\n",
       "      <td>0.4</td>\n",
       "      <td>setosa</td>\n",
       "    </tr>\n",
       "    <tr>\n",
       "      <th>6</th>\n",
       "      <td>4.6</td>\n",
       "      <td>3.4</td>\n",
       "      <td>1.4</td>\n",
       "      <td>0.3</td>\n",
       "      <td>setosa</td>\n",
       "    </tr>\n",
       "    <tr>\n",
       "      <th>7</th>\n",
       "      <td>5.0</td>\n",
       "      <td>3.4</td>\n",
       "      <td>1.5</td>\n",
       "      <td>0.2</td>\n",
       "      <td>setosa</td>\n",
       "    </tr>\n",
       "  </tbody>\n",
       "</table>\n",
       "</div>\n",
       "    <div class=\"colab-df-buttons\">\n",
       "\n",
       "  <div class=\"colab-df-container\">\n",
       "    <button class=\"colab-df-convert\" onclick=\"convertToInteractive('df-88434723-f605-4601-b2c4-2708798ffbc6')\"\n",
       "            title=\"Convert this dataframe to an interactive table.\"\n",
       "            style=\"display:none;\">\n",
       "\n",
       "  <svg xmlns=\"http://www.w3.org/2000/svg\" height=\"24px\" viewBox=\"0 -960 960 960\">\n",
       "    <path d=\"M120-120v-720h720v720H120Zm60-500h600v-160H180v160Zm220 220h160v-160H400v160Zm0 220h160v-160H400v160ZM180-400h160v-160H180v160Zm440 0h160v-160H620v160ZM180-180h160v-160H180v160Zm440 0h160v-160H620v160Z\"/>\n",
       "  </svg>\n",
       "    </button>\n",
       "\n",
       "  <style>\n",
       "    .colab-df-container {\n",
       "      display:flex;\n",
       "      gap: 12px;\n",
       "    }\n",
       "\n",
       "    .colab-df-convert {\n",
       "      background-color: #E8F0FE;\n",
       "      border: none;\n",
       "      border-radius: 50%;\n",
       "      cursor: pointer;\n",
       "      display: none;\n",
       "      fill: #1967D2;\n",
       "      height: 32px;\n",
       "      padding: 0 0 0 0;\n",
       "      width: 32px;\n",
       "    }\n",
       "\n",
       "    .colab-df-convert:hover {\n",
       "      background-color: #E2EBFA;\n",
       "      box-shadow: 0px 1px 2px rgba(60, 64, 67, 0.3), 0px 1px 3px 1px rgba(60, 64, 67, 0.15);\n",
       "      fill: #174EA6;\n",
       "    }\n",
       "\n",
       "    .colab-df-buttons div {\n",
       "      margin-bottom: 4px;\n",
       "    }\n",
       "\n",
       "    [theme=dark] .colab-df-convert {\n",
       "      background-color: #3B4455;\n",
       "      fill: #D2E3FC;\n",
       "    }\n",
       "\n",
       "    [theme=dark] .colab-df-convert:hover {\n",
       "      background-color: #434B5C;\n",
       "      box-shadow: 0px 1px 3px 1px rgba(0, 0, 0, 0.15);\n",
       "      filter: drop-shadow(0px 1px 2px rgba(0, 0, 0, 0.3));\n",
       "      fill: #FFFFFF;\n",
       "    }\n",
       "  </style>\n",
       "\n",
       "    <script>\n",
       "      const buttonEl =\n",
       "        document.querySelector('#df-88434723-f605-4601-b2c4-2708798ffbc6 button.colab-df-convert');\n",
       "      buttonEl.style.display =\n",
       "        google.colab.kernel.accessAllowed ? 'block' : 'none';\n",
       "\n",
       "      async function convertToInteractive(key) {\n",
       "        const element = document.querySelector('#df-88434723-f605-4601-b2c4-2708798ffbc6');\n",
       "        const dataTable =\n",
       "          await google.colab.kernel.invokeFunction('convertToInteractive',\n",
       "                                                    [key], {});\n",
       "        if (!dataTable) return;\n",
       "\n",
       "        const docLinkHtml = 'Like what you see? Visit the ' +\n",
       "          '<a target=\"_blank\" href=https://colab.research.google.com/notebooks/data_table.ipynb>data table notebook</a>'\n",
       "          + ' to learn more about interactive tables.';\n",
       "        element.innerHTML = '';\n",
       "        dataTable['output_type'] = 'display_data';\n",
       "        await google.colab.output.renderOutput(dataTable, element);\n",
       "        const docLink = document.createElement('div');\n",
       "        docLink.innerHTML = docLinkHtml;\n",
       "        element.appendChild(docLink);\n",
       "      }\n",
       "    </script>\n",
       "  </div>\n",
       "\n",
       "\n",
       "<div id=\"df-b9c23999-f5f0-4453-a8b0-2d75cea26ca3\">\n",
       "  <button class=\"colab-df-quickchart\" onclick=\"quickchart('df-b9c23999-f5f0-4453-a8b0-2d75cea26ca3')\"\n",
       "            title=\"Suggest charts\"\n",
       "            style=\"display:none;\">\n",
       "\n",
       "<svg xmlns=\"http://www.w3.org/2000/svg\" height=\"24px\"viewBox=\"0 0 24 24\"\n",
       "     width=\"24px\">\n",
       "    <g>\n",
       "        <path d=\"M19 3H5c-1.1 0-2 .9-2 2v14c0 1.1.9 2 2 2h14c1.1 0 2-.9 2-2V5c0-1.1-.9-2-2-2zM9 17H7v-7h2v7zm4 0h-2V7h2v10zm4 0h-2v-4h2v4z\"/>\n",
       "    </g>\n",
       "</svg>\n",
       "  </button>\n",
       "\n",
       "<style>\n",
       "  .colab-df-quickchart {\n",
       "      --bg-color: #E8F0FE;\n",
       "      --fill-color: #1967D2;\n",
       "      --hover-bg-color: #E2EBFA;\n",
       "      --hover-fill-color: #174EA6;\n",
       "      --disabled-fill-color: #AAA;\n",
       "      --disabled-bg-color: #DDD;\n",
       "  }\n",
       "\n",
       "  [theme=dark] .colab-df-quickchart {\n",
       "      --bg-color: #3B4455;\n",
       "      --fill-color: #D2E3FC;\n",
       "      --hover-bg-color: #434B5C;\n",
       "      --hover-fill-color: #FFFFFF;\n",
       "      --disabled-bg-color: #3B4455;\n",
       "      --disabled-fill-color: #666;\n",
       "  }\n",
       "\n",
       "  .colab-df-quickchart {\n",
       "    background-color: var(--bg-color);\n",
       "    border: none;\n",
       "    border-radius: 50%;\n",
       "    cursor: pointer;\n",
       "    display: none;\n",
       "    fill: var(--fill-color);\n",
       "    height: 32px;\n",
       "    padding: 0;\n",
       "    width: 32px;\n",
       "  }\n",
       "\n",
       "  .colab-df-quickchart:hover {\n",
       "    background-color: var(--hover-bg-color);\n",
       "    box-shadow: 0 1px 2px rgba(60, 64, 67, 0.3), 0 1px 3px 1px rgba(60, 64, 67, 0.15);\n",
       "    fill: var(--button-hover-fill-color);\n",
       "  }\n",
       "\n",
       "  .colab-df-quickchart-complete:disabled,\n",
       "  .colab-df-quickchart-complete:disabled:hover {\n",
       "    background-color: var(--disabled-bg-color);\n",
       "    fill: var(--disabled-fill-color);\n",
       "    box-shadow: none;\n",
       "  }\n",
       "\n",
       "  .colab-df-spinner {\n",
       "    border: 2px solid var(--fill-color);\n",
       "    border-color: transparent;\n",
       "    border-bottom-color: var(--fill-color);\n",
       "    animation:\n",
       "      spin 1s steps(1) infinite;\n",
       "  }\n",
       "\n",
       "  @keyframes spin {\n",
       "    0% {\n",
       "      border-color: transparent;\n",
       "      border-bottom-color: var(--fill-color);\n",
       "      border-left-color: var(--fill-color);\n",
       "    }\n",
       "    20% {\n",
       "      border-color: transparent;\n",
       "      border-left-color: var(--fill-color);\n",
       "      border-top-color: var(--fill-color);\n",
       "    }\n",
       "    30% {\n",
       "      border-color: transparent;\n",
       "      border-left-color: var(--fill-color);\n",
       "      border-top-color: var(--fill-color);\n",
       "      border-right-color: var(--fill-color);\n",
       "    }\n",
       "    40% {\n",
       "      border-color: transparent;\n",
       "      border-right-color: var(--fill-color);\n",
       "      border-top-color: var(--fill-color);\n",
       "    }\n",
       "    60% {\n",
       "      border-color: transparent;\n",
       "      border-right-color: var(--fill-color);\n",
       "    }\n",
       "    80% {\n",
       "      border-color: transparent;\n",
       "      border-right-color: var(--fill-color);\n",
       "      border-bottom-color: var(--fill-color);\n",
       "    }\n",
       "    90% {\n",
       "      border-color: transparent;\n",
       "      border-bottom-color: var(--fill-color);\n",
       "    }\n",
       "  }\n",
       "</style>\n",
       "\n",
       "  <script>\n",
       "    async function quickchart(key) {\n",
       "      const quickchartButtonEl =\n",
       "        document.querySelector('#' + key + ' button');\n",
       "      quickchartButtonEl.disabled = true;  // To prevent multiple clicks.\n",
       "      quickchartButtonEl.classList.add('colab-df-spinner');\n",
       "      try {\n",
       "        const charts = await google.colab.kernel.invokeFunction(\n",
       "            'suggestCharts', [key], {});\n",
       "      } catch (error) {\n",
       "        console.error('Error during call to suggestCharts:', error);\n",
       "      }\n",
       "      quickchartButtonEl.classList.remove('colab-df-spinner');\n",
       "      quickchartButtonEl.classList.add('colab-df-quickchart-complete');\n",
       "    }\n",
       "    (() => {\n",
       "      let quickchartButtonEl =\n",
       "        document.querySelector('#df-b9c23999-f5f0-4453-a8b0-2d75cea26ca3 button');\n",
       "      quickchartButtonEl.style.display =\n",
       "        google.colab.kernel.accessAllowed ? 'block' : 'none';\n",
       "    })();\n",
       "  </script>\n",
       "</div>\n",
       "\n",
       "    </div>\n",
       "  </div>\n"
      ],
      "text/plain": [
       "   sepal_length  sepal_width  petal_length  petal_width species\n",
       "0           5.1          3.5           1.4          0.2  setosa\n",
       "4           5.0          3.6           1.4          0.2  setosa\n",
       "5           5.4          3.9           1.7          0.4  setosa\n",
       "6           4.6          3.4           1.4          0.3  setosa\n",
       "7           5.0          3.4           1.5          0.2  setosa"
      ]
     },
     "execution_count": 78,
     "metadata": {},
     "output_type": "execute_result"
    }
   ],
   "source": [
    "df_right = df[df.sepal_width > 3.35]\n",
    "df_right.head()"
   ]
  },
  {
   "cell_type": "code",
   "execution_count": null,
   "id": "388c331b-22e0-4cb4-bec9-571982385e71",
   "metadata": {
    "colab": {
     "base_uri": "https://localhost:8080/"
    },
    "executionInfo": {
     "elapsed": 76,
     "status": "ok",
     "timestamp": 1730970270578,
     "user": {
      "displayName": "HeXaMeThYlEnTrIpEr0x0dIaMiN",
      "userId": "15629405324849936436"
     },
     "user_tz": -60
    },
    "id": "388c331b-22e0-4cb4-bec9-571982385e71",
    "outputId": "50af778a-1f08-4d8d-888d-15dcd7e93105"
   },
   "outputs": [
    {
     "data": {
      "text/plain": [
       "(36, 5)"
      ]
     },
     "execution_count": 79,
     "metadata": {},
     "output_type": "execute_result"
    }
   ],
   "source": [
    "df_right.shape"
   ]
  },
  {
   "cell_type": "code",
   "execution_count": null,
   "id": "8adc4083-667c-4b39-85eb-8f8b47cdb9c6",
   "metadata": {
    "colab": {
     "base_uri": "https://localhost:8080/",
     "height": 229
    },
    "executionInfo": {
     "elapsed": 60,
     "status": "ok",
     "timestamp": 1730970270578,
     "user": {
      "displayName": "HeXaMeThYlEnTrIpEr0x0dIaMiN",
      "userId": "15629405324849936436"
     },
     "user_tz": -60
    },
    "id": "8adc4083-667c-4b39-85eb-8f8b47cdb9c6",
    "outputId": "658a7ddf-aee2-44a9-fb09-bb64600edffd"
   },
   "outputs": [
    {
     "data": {
      "text/html": [
       "<div>\n",
       "<style scoped>\n",
       "    .dataframe tbody tr th:only-of-type {\n",
       "        vertical-align: middle;\n",
       "    }\n",
       "\n",
       "    .dataframe tbody tr th {\n",
       "        vertical-align: top;\n",
       "    }\n",
       "\n",
       "    .dataframe thead th {\n",
       "        text-align: right;\n",
       "    }\n",
       "</style>\n",
       "<table border=\"1\" class=\"dataframe\">\n",
       "  <thead>\n",
       "    <tr style=\"text-align: right;\">\n",
       "      <th></th>\n",
       "      <th>count</th>\n",
       "    </tr>\n",
       "    <tr>\n",
       "      <th>species</th>\n",
       "      <th></th>\n",
       "    </tr>\n",
       "  </thead>\n",
       "  <tbody>\n",
       "    <tr>\n",
       "      <th>setosa</th>\n",
       "      <td>30</td>\n",
       "    </tr>\n",
       "    <tr>\n",
       "      <th>virginica</th>\n",
       "      <td>5</td>\n",
       "    </tr>\n",
       "    <tr>\n",
       "      <th>versicolor</th>\n",
       "      <td>1</td>\n",
       "    </tr>\n",
       "  </tbody>\n",
       "</table>\n",
       "</div><br><label><b>dtype:</b> int64</label>"
      ],
      "text/plain": [
       "species\n",
       "setosa        30\n",
       "virginica      5\n",
       "versicolor     1\n",
       "Name: count, dtype: int64"
      ]
     },
     "execution_count": 80,
     "metadata": {},
     "output_type": "execute_result"
    }
   ],
   "source": [
    "df_right.species.value_counts()"
   ]
  },
  {
   "cell_type": "code",
   "execution_count": null,
   "id": "96a667ea-456b-45d1-a704-e18f5813744c",
   "metadata": {
    "id": "96a667ea-456b-45d1-a704-e18f5813744c"
   },
   "outputs": [],
   "source": []
  },
  {
   "cell_type": "code",
   "execution_count": null,
   "id": "83942d58-c899-425f-93be-6b9f54786f7e",
   "metadata": {
    "id": "83942d58-c899-425f-93be-6b9f54786f7e"
   },
   "outputs": [],
   "source": []
  },
  {
   "cell_type": "code",
   "execution_count": null,
   "id": "d4a7c2c4-802c-40b2-9f9a-d0c779b1d1d1",
   "metadata": {
    "id": "d4a7c2c4-802c-40b2-9f9a-d0c779b1d1d1"
   },
   "outputs": [],
   "source": []
  },
  {
   "cell_type": "markdown",
   "id": "c3b6c0d8-5303-4c5d-94d4-6d0f883abd7a",
   "metadata": {
    "id": "c3b6c0d8-5303-4c5d-94d4-6d0f883abd7a"
   },
   "source": [
    "# 🎯 Repeat the process for the all 4 attributes and find the best split\n",
    "* You will try all the possible boundaries along all the features, i.e. all the axes petal width and sepal width.\n",
    "    * 💡 How to set the boundary?\n",
    "        * Select only the unique values of the chosen attribute (.unique() function)\n",
    "        * Sort the values (np.sort())\n",
    "        * Iterate over the array of the values, take every two consecutive numbers and compute their mean\n",
    "        * The mean is the current split boundary\n",
    "* For each split the algorithm will compute the **Gini impurity** of the two groups created.\n",
    "* 💡 Finally you will choose the decision boundary (best split) that gives the lowest Gini impurity for the two groups from all the 4 attbibutes\n",
    "\n",
    "### Results:\n",
    "* index = 0, Sepal Length < 5.45, Gini = 0.44\n",
    "* index = 1, Sepal Width < 3.35, Gini = 0.54\n",
    "* index = 2, Petal Length < 2.45, Gini = 0.33\n",
    "* index = 3, Petal Width < 0.80, Gini = 0.33\n",
    "\n",
    "* **Selected split:**\n",
    "    * **index = 2, Petal Length < 2.45, Gini = 0.33**\n",
    "    * ... or index = 3, Petal Width < 0.80, Gini = 0.33\n",
    "\n",
    "# 🔎 If we have only one split - how will the classification rule-set look like?"
   ]
  },
  {
   "cell_type": "code",
   "execution_count": null,
   "id": "f534f148-11aa-4121-acab-29363bac7fba",
   "metadata": {
    "id": "f534f148-11aa-4121-acab-29363bac7fba"
   },
   "outputs": [],
   "source": [
    "def print_splits(df: pd.DataFrame, column: str) -> None:\n",
    "    vals = np.sort(df[column].unique())\n",
    "    best = (0, 1)\n",
    "    for i in range(len(vals) - 1):\n",
    "        curr, nx = vals[i], vals[i+1]\n",
    "        boundary = (curr + nx) / 2\n",
    "        df_left = df[df[column] <= boundary]\n",
    "        df_right = df[df[column] > boundary]\n",
    "        gini_imp = (df_left.shape[0] / df.shape[0]) * gini_index(df_left) + (df_right.shape[0] / df.shape[0]) * gini_index(df_right)\n",
    "        if gini_imp < best[1]:\n",
    "            best = (boundary, gini_imp) # i instead of boundary?\n",
    "        print(f'Gini: {gini_imp:.3f}, Boundary: {boundary:.2f}')\n",
    "    print(f\"Best -> Gini: {best[1]:.3f}, Boundary: {best[0]:.2f}\")"
   ]
  },
  {
   "cell_type": "markdown",
   "id": "a20af5bd-014d-4782-9f6c-518b55141efc",
   "metadata": {
    "id": "a20af5bd-014d-4782-9f6c-518b55141efc"
   },
   "source": [
    "## sepal_length"
   ]
  },
  {
   "cell_type": "markdown",
   "id": "e4054ef8-9b42-448e-92b3-c8be3dbc694c",
   "metadata": {
    "id": "e4054ef8-9b42-448e-92b3-c8be3dbc694c"
   },
   "source": [
    "* Gini: 0.662, Boundary: 4.35\n",
    "* Gini: 0.648, Boundary: 4.45\n",
    "* Gini: 0.644, Boundary: 4.55\n",
    "* Gini: 0.624, Boundary: 4.65\n",
    "* Gini: 0.614, Boundary: 4.75\n",
    "* Gini: 0.587, Boundary: 4.85\n",
    "* Gini: 0.581, Boundary: 4.95\n",
    "* Gini: 0.547, Boundary: 5.05\n",
    "* Gini: 0.498, Boundary: 5.15\n",
    "* Gini: 0.482, Boundary: 5.25\n",
    "* Gini: 0.474, Boundary: 5.35\n",
    "* Gini: 0.439, Boundary: 5.45\n",
    "* Gini: 0.449, Boundary: 5.55\n",
    "* Gini: 0.475, Boundary: 5.65\n",
    "* Gini: 0.475, Boundary: 5.75\n",
    "* Gini: 0.492, Boundary: 5.85\n",
    "* Gini: 0.500, Boundary: 5.95\n",
    "* Gini: 0.512, Boundary: 6.05\n",
    "* Gini: 0.520, Boundary: 6.15\n",
    "* Gini: 0.528, Boundary: 6.25\n",
    "* Gini: 0.558, Boundary: 6.35\n",
    "* Gini: 0.580, Boundary: 6.45\n",
    "* Gini: 0.598, Boundary: 6.55\n",
    "* Gini: 0.591, Boundary: 6.65\n",
    "* Gini: 0.603, Boundary: 6.75\n",
    "* Gini: 0.608, Boundary: 6.85\n",
    "* Gini: 0.617, Boundary: 6.95\n",
    "* Gini: 0.609, Boundary: 7.05\n",
    "* Gini: 0.614, Boundary: 7.15\n",
    "* Gini: 0.629, Boundary: 7.25\n",
    "* Gini: 0.634, Boundary: 7.35\n",
    "* Gini: 0.639, Boundary: 7.50\n",
    "* Gini: 0.644, Boundary: 7.65\n",
    "* Gini: 0.662, Boundary: 7.80\n",
    "* Best -> Gini: 0.439, Boundary: 5.45"
   ]
  },
  {
   "cell_type": "code",
   "execution_count": null,
   "id": "44a3e1d0-6ff6-4632-9d8d-6a321777b2c4",
   "metadata": {
    "colab": {
     "base_uri": "https://localhost:8080/"
    },
    "executionInfo": {
     "elapsed": 55,
     "status": "ok",
     "timestamp": 1730970270579,
     "user": {
      "displayName": "HeXaMeThYlEnTrIpEr0x0dIaMiN",
      "userId": "15629405324849936436"
     },
     "user_tz": -60
    },
    "id": "44a3e1d0-6ff6-4632-9d8d-6a321777b2c4",
    "outputId": "69c979b8-2ee8-4021-d49b-2fb3d88a7e33"
   },
   "outputs": [
    {
     "name": "stdout",
     "output_type": "stream",
     "text": [
      "Gini: 0.662, Boundary: 4.35\n",
      "Gini: 0.648, Boundary: 4.45\n",
      "Gini: 0.644, Boundary: 4.55\n",
      "Gini: 0.624, Boundary: 4.65\n",
      "Gini: 0.614, Boundary: 4.75\n",
      "Gini: 0.587, Boundary: 4.85\n",
      "Gini: 0.581, Boundary: 4.95\n",
      "Gini: 0.547, Boundary: 5.05\n",
      "Gini: 0.498, Boundary: 5.15\n",
      "Gini: 0.482, Boundary: 5.25\n",
      "Gini: 0.474, Boundary: 5.35\n",
      "Gini: 0.439, Boundary: 5.45\n",
      "Gini: 0.449, Boundary: 5.55\n",
      "Gini: 0.475, Boundary: 5.65\n",
      "Gini: 0.475, Boundary: 5.75\n",
      "Gini: 0.492, Boundary: 5.85\n",
      "Gini: 0.500, Boundary: 5.95\n",
      "Gini: 0.512, Boundary: 6.05\n",
      "Gini: 0.520, Boundary: 6.15\n",
      "Gini: 0.528, Boundary: 6.25\n",
      "Gini: 0.558, Boundary: 6.35\n",
      "Gini: 0.580, Boundary: 6.45\n",
      "Gini: 0.598, Boundary: 6.55\n",
      "Gini: 0.591, Boundary: 6.65\n",
      "Gini: 0.603, Boundary: 6.75\n",
      "Gini: 0.608, Boundary: 6.85\n",
      "Gini: 0.617, Boundary: 6.95\n",
      "Gini: 0.609, Boundary: 7.05\n",
      "Gini: 0.614, Boundary: 7.15\n",
      "Gini: 0.629, Boundary: 7.25\n",
      "Gini: 0.634, Boundary: 7.35\n",
      "Gini: 0.639, Boundary: 7.50\n",
      "Gini: 0.644, Boundary: 7.65\n",
      "Gini: 0.662, Boundary: 7.80\n",
      "Best -> Gini: 0.439, Boundary: 5.45\n"
     ]
    }
   ],
   "source": [
    "print_splits(df, 'sepal_length')"
   ]
  },
  {
   "cell_type": "markdown",
   "id": "3881d935-4582-44ed-9346-b9bc5a64e762",
   "metadata": {
    "id": "3881d935-4582-44ed-9346-b9bc5a64e762"
   },
   "source": [
    "## sepal_width"
   ]
  },
  {
   "cell_type": "code",
   "execution_count": null,
   "id": "e768d0b1-4aff-4caf-b284-2d69c77f8512",
   "metadata": {
    "colab": {
     "base_uri": "https://localhost:8080/"
    },
    "executionInfo": {
     "elapsed": 41,
     "status": "ok",
     "timestamp": 1730970270580,
     "user": {
      "displayName": "HeXaMeThYlEnTrIpEr0x0dIaMiN",
      "userId": "15629405324849936436"
     },
     "user_tz": -60
    },
    "id": "e768d0b1-4aff-4caf-b284-2d69c77f8512",
    "outputId": "1c9acc3b-6fb9-4ec8-a8da-bbff31b0e296"
   },
   "outputs": [
    {
     "name": "stdout",
     "output_type": "stream",
     "text": [
      "Gini: 0.662, Boundary: 2.10\n",
      "Gini: 0.659, Boundary: 2.25\n",
      "Gini: 0.652, Boundary: 2.35\n",
      "Gini: 0.639, Boundary: 2.45\n",
      "Gini: 0.637, Boundary: 2.55\n",
      "Gini: 0.629, Boundary: 2.65\n",
      "Gini: 0.615, Boundary: 2.75\n",
      "Gini: 0.593, Boundary: 2.85\n",
      "Gini: 0.569, Boundary: 2.95\n",
      "Gini: 0.555, Boundary: 3.05\n",
      "Gini: 0.561, Boundary: 3.15\n",
      "Gini: 0.556, Boundary: 3.25\n",
      "Gini: 0.546, Boundary: 3.35\n",
      "Gini: 0.581, Boundary: 3.45\n",
      "Gini: 0.614, Boundary: 3.55\n",
      "Gini: 0.618, Boundary: 3.65\n",
      "Gini: 0.633, Boundary: 3.75\n",
      "Gini: 0.639, Boundary: 3.85\n",
      "Gini: 0.648, Boundary: 3.95\n",
      "Gini: 0.653, Boundary: 4.05\n",
      "Gini: 0.658, Boundary: 4.15\n",
      "Gini: 0.662, Boundary: 4.30\n",
      "Best -> Gini: 0.546, Boundary: 3.35\n"
     ]
    }
   ],
   "source": [
    "print_splits(df, 'sepal_width')"
   ]
  },
  {
   "cell_type": "markdown",
   "id": "945b4908-8d83-4bd5-9834-71ff6a7a5c38",
   "metadata": {
    "id": "945b4908-8d83-4bd5-9834-71ff6a7a5c38"
   },
   "source": [
    "## petal_length"
   ]
  },
  {
   "cell_type": "code",
   "execution_count": null,
   "id": "172fa8b7-7750-4026-b722-615bc908e7fa",
   "metadata": {
    "colab": {
     "base_uri": "https://localhost:8080/"
    },
    "executionInfo": {
     "elapsed": 32,
     "status": "ok",
     "timestamp": 1730970270580,
     "user": {
      "displayName": "HeXaMeThYlEnTrIpEr0x0dIaMiN",
      "userId": "15629405324849936436"
     },
     "user_tz": -60
    },
    "id": "172fa8b7-7750-4026-b722-615bc908e7fa",
    "outputId": "7f0a0617-da12-4e28-afcc-da452acb367f"
   },
   "outputs": [
    {
     "name": "stdout",
     "output_type": "stream",
     "text": [
      "Gini: 0.662, Boundary: 1.05\n",
      "Gini: 0.658, Boundary: 1.15\n",
      "Gini: 0.648, Boundary: 1.25\n",
      "Gini: 0.614, Boundary: 1.35\n",
      "Gini: 0.546, Boundary: 1.45\n",
      "Gini: 0.448, Boundary: 1.55\n",
      "Gini: 0.390, Boundary: 1.65\n",
      "Gini: 0.353, Boundary: 1.80\n",
      "Gini: 0.333, Boundary: 2.45\n",
      "Gini: 0.343, Boundary: 3.15\n",
      "Gini: 0.361, Boundary: 3.40\n",
      "Gini: 0.376, Boundary: 3.55\n",
      "Gini: 0.383, Boundary: 3.65\n",
      "Gini: 0.390, Boundary: 3.75\n",
      "Gini: 0.396, Boundary: 3.85\n",
      "Gini: 0.412, Boundary: 3.95\n",
      "Gini: 0.431, Boundary: 4.05\n",
      "Gini: 0.439, Boundary: 4.15\n",
      "Gini: 0.444, Boundary: 4.25\n",
      "Gini: 0.444, Boundary: 4.35\n",
      "Gini: 0.442, Boundary: 4.45\n",
      "Gini: 0.434, Boundary: 4.55\n",
      "Gini: 0.422, Boundary: 4.65\n",
      "Gini: 0.393, Boundary: 4.75\n",
      "Gini: 0.398, Boundary: 4.85\n",
      "Gini: 0.409, Boundary: 4.95\n",
      "Gini: 0.425, Boundary: 5.05\n",
      "Gini: 0.471, Boundary: 5.15\n",
      "Gini: 0.486, Boundary: 5.25\n",
      "Gini: 0.500, Boundary: 5.35\n",
      "Gini: 0.514, Boundary: 5.45\n",
      "Gini: 0.533, Boundary: 5.55\n",
      "Gini: 0.570, Boundary: 5.65\n",
      "Gini: 0.587, Boundary: 5.75\n",
      "Gini: 0.603, Boundary: 5.85\n",
      "Gini: 0.614, Boundary: 5.95\n",
      "Gini: 0.624, Boundary: 6.05\n",
      "Gini: 0.639, Boundary: 6.20\n",
      "Gini: 0.644, Boundary: 6.35\n",
      "Gini: 0.648, Boundary: 6.50\n",
      "Gini: 0.653, Boundary: 6.65\n",
      "Gini: 0.662, Boundary: 6.80\n",
      "Best -> Gini: 0.333, Boundary: 2.45\n"
     ]
    }
   ],
   "source": [
    "print_splits(df, 'petal_length')"
   ]
  },
  {
   "cell_type": "markdown",
   "id": "de4948cf-9b66-4b94-b9af-db330b8c061a",
   "metadata": {
    "id": "de4948cf-9b66-4b94-b9af-db330b8c061a"
   },
   "source": [
    "## petal_width"
   ]
  },
  {
   "cell_type": "code",
   "execution_count": null,
   "id": "26d2b561-0a51-4217-b6f1-7686c6d67671",
   "metadata": {
    "colab": {
     "base_uri": "https://localhost:8080/"
    },
    "executionInfo": {
     "elapsed": 854,
     "status": "ok",
     "timestamp": 1730970271410,
     "user": {
      "displayName": "HeXaMeThYlEnTrIpEr0x0dIaMiN",
      "userId": "15629405324849936436"
     },
     "user_tz": -60
    },
    "id": "26d2b561-0a51-4217-b6f1-7686c6d67671",
    "outputId": "dae7551c-bf53-4e1d-f5c6-ce934c286d7d"
   },
   "outputs": [
    {
     "name": "stdout",
     "output_type": "stream",
     "text": [
      "Gini: 0.639, Boundary: 0.15\n",
      "Gini: 0.471, Boundary: 0.25\n",
      "Gini: 0.416, Boundary: 0.35\n",
      "Gini: 0.353, Boundary: 0.45\n",
      "Gini: 0.343, Boundary: 0.55\n",
      "Gini: 0.333, Boundary: 0.80\n",
      "Gini: 0.390, Boundary: 1.05\n",
      "Gini: 0.407, Boundary: 1.15\n",
      "Gini: 0.428, Boundary: 1.25\n",
      "Gini: 0.443, Boundary: 1.35\n",
      "Gini: 0.438, Boundary: 1.45\n",
      "Gini: 0.405, Boundary: 1.55\n",
      "Gini: 0.391, Boundary: 1.65\n",
      "Gini: 0.391, Boundary: 1.75\n",
      "Gini: 0.471, Boundary: 1.85\n",
      "Gini: 0.507, Boundary: 1.95\n",
      "Gini: 0.546, Boundary: 2.05\n",
      "Gini: 0.581, Boundary: 2.15\n",
      "Gini: 0.598, Boundary: 2.25\n",
      "Gini: 0.639, Boundary: 2.35\n",
      "Gini: 0.653, Boundary: 2.45\n",
      "Best -> Gini: 0.333, Boundary: 0.80\n"
     ]
    }
   ],
   "source": [
    "print_splits(df, 'petal_width')"
   ]
  },
  {
   "cell_type": "markdown",
   "id": "2042a76e-da61-4822-a321-179b1c5979be",
   "metadata": {
    "id": "2042a76e-da61-4822-a321-179b1c5979be"
   },
   "source": [
    "# 🎯 Split the data using the selected split criterion\n",
    "* 💡 **Use the one using petal_length 😊**\n",
    "\n",
    "1) Repeat the whole process one more time for the part of the data with more than 1 class\n",
    "   \n",
    "2) Find the best split again\n",
    "\n",
    "3) Draw the decision tree with the two defined levels you have created this way\n",
    "    * You can use any graphic editor you like, even the MS Paint 😃"
   ]
  },
  {
   "cell_type": "code",
   "execution_count": null,
   "id": "aef5d44f-f45a-4bbd-aa40-dc226e7eba12",
   "metadata": {
    "id": "aef5d44f-f45a-4bbd-aa40-dc226e7eba12"
   },
   "outputs": [],
   "source": [
    "df_petal_left = df[df['petal_length'] <= 2.45]\n",
    "df_petal_right = df[df['petal_length'] > 2.45]\n",
    "# df_petal_right = ..."
   ]
  },
  {
   "cell_type": "code",
   "execution_count": null,
   "id": "b743f4a3-88d1-4141-8ee3-96d4c6357cb6",
   "metadata": {
    "colab": {
     "base_uri": "https://localhost:8080/",
     "height": 167
    },
    "executionInfo": {
     "elapsed": 226,
     "status": "ok",
     "timestamp": 1730970271411,
     "user": {
      "displayName": "HeXaMeThYlEnTrIpEr0x0dIaMiN",
      "userId": "15629405324849936436"
     },
     "user_tz": -60
    },
    "id": "b743f4a3-88d1-4141-8ee3-96d4c6357cb6",
    "outputId": "3d785573-e996-4774-fe48-6314978d40b2"
   },
   "outputs": [
    {
     "data": {
      "text/html": [
       "<div>\n",
       "<style scoped>\n",
       "    .dataframe tbody tr th:only-of-type {\n",
       "        vertical-align: middle;\n",
       "    }\n",
       "\n",
       "    .dataframe tbody tr th {\n",
       "        vertical-align: top;\n",
       "    }\n",
       "\n",
       "    .dataframe thead th {\n",
       "        text-align: right;\n",
       "    }\n",
       "</style>\n",
       "<table border=\"1\" class=\"dataframe\">\n",
       "  <thead>\n",
       "    <tr style=\"text-align: right;\">\n",
       "      <th></th>\n",
       "      <th>count</th>\n",
       "    </tr>\n",
       "    <tr>\n",
       "      <th>species</th>\n",
       "      <th></th>\n",
       "    </tr>\n",
       "  </thead>\n",
       "  <tbody>\n",
       "    <tr>\n",
       "      <th>setosa</th>\n",
       "      <td>50</td>\n",
       "    </tr>\n",
       "  </tbody>\n",
       "</table>\n",
       "</div><br><label><b>dtype:</b> int64</label>"
      ],
      "text/plain": [
       "species\n",
       "setosa    50\n",
       "Name: count, dtype: int64"
      ]
     },
     "execution_count": 87,
     "metadata": {},
     "output_type": "execute_result"
    }
   ],
   "source": [
    "df_petal_left.species.value_counts()"
   ]
  },
  {
   "cell_type": "code",
   "execution_count": null,
   "id": "215b98ef-75e8-4b38-be1c-cab256f222a3",
   "metadata": {
    "colab": {
     "base_uri": "https://localhost:8080/",
     "height": 198
    },
    "executionInfo": {
     "elapsed": 225,
     "status": "ok",
     "timestamp": 1730970271412,
     "user": {
      "displayName": "HeXaMeThYlEnTrIpEr0x0dIaMiN",
      "userId": "15629405324849936436"
     },
     "user_tz": -60
    },
    "id": "215b98ef-75e8-4b38-be1c-cab256f222a3",
    "outputId": "f7f954f9-f6e0-49ad-d019-cdc1e37a3ac7"
   },
   "outputs": [
    {
     "data": {
      "text/html": [
       "<div>\n",
       "<style scoped>\n",
       "    .dataframe tbody tr th:only-of-type {\n",
       "        vertical-align: middle;\n",
       "    }\n",
       "\n",
       "    .dataframe tbody tr th {\n",
       "        vertical-align: top;\n",
       "    }\n",
       "\n",
       "    .dataframe thead th {\n",
       "        text-align: right;\n",
       "    }\n",
       "</style>\n",
       "<table border=\"1\" class=\"dataframe\">\n",
       "  <thead>\n",
       "    <tr style=\"text-align: right;\">\n",
       "      <th></th>\n",
       "      <th>count</th>\n",
       "    </tr>\n",
       "    <tr>\n",
       "      <th>species</th>\n",
       "      <th></th>\n",
       "    </tr>\n",
       "  </thead>\n",
       "  <tbody>\n",
       "    <tr>\n",
       "      <th>versicolor</th>\n",
       "      <td>50</td>\n",
       "    </tr>\n",
       "    <tr>\n",
       "      <th>virginica</th>\n",
       "      <td>50</td>\n",
       "    </tr>\n",
       "  </tbody>\n",
       "</table>\n",
       "</div><br><label><b>dtype:</b> int64</label>"
      ],
      "text/plain": [
       "species\n",
       "versicolor    50\n",
       "virginica     50\n",
       "Name: count, dtype: int64"
      ]
     },
     "execution_count": 88,
     "metadata": {},
     "output_type": "execute_result"
    }
   ],
   "source": [
    "df_petal_right.species.value_counts()"
   ]
  },
  {
   "cell_type": "code",
   "execution_count": null,
   "id": "96cb987c-9039-4479-902d-6287971d2af6",
   "metadata": {
    "colab": {
     "base_uri": "https://localhost:8080/"
    },
    "executionInfo": {
     "elapsed": 225,
     "status": "ok",
     "timestamp": 1730970271413,
     "user": {
      "displayName": "HeXaMeThYlEnTrIpEr0x0dIaMiN",
      "userId": "15629405324849936436"
     },
     "user_tz": -60
    },
    "id": "96cb987c-9039-4479-902d-6287971d2af6",
    "outputId": "6e9763d9-5cb8-4d2c-c00a-d8e0430ad8b4"
   },
   "outputs": [
    {
     "name": "stdout",
     "output_type": "stream",
     "text": [
      "sepal_length\n",
      "Gini: 0.500, Boundary: 4.95\n",
      "Gini: 0.495, Boundary: 5.05\n",
      "Gini: 0.491, Boundary: 5.15\n",
      "Gini: 0.486, Boundary: 5.30\n",
      "Gini: 0.481, Boundary: 5.45\n",
      "Gini: 0.453, Boundary: 5.55\n",
      "Gini: 0.434, Boundary: 5.65\n",
      "Gini: 0.411, Boundary: 5.75\n",
      "Gini: 0.423, Boundary: 5.85\n",
      "Gini: 0.418, Boundary: 5.95\n",
      "Gini: 0.407, Boundary: 6.05\n",
      "Gini: 0.393, Boundary: 6.15\n",
      "Gini: 0.394, Boundary: 6.25\n",
      "Gini: 0.418, Boundary: 6.35\n",
      "Gini: 0.436, Boundary: 6.45\n",
      "Gini: 0.453, Boundary: 6.55\n",
      "Gini: 0.437, Boundary: 6.65\n",
      "Gini: 0.439, Boundary: 6.75\n",
      "Gini: 0.440, Boundary: 6.85\n",
      "Gini: 0.447, Boundary: 6.95\n",
      "Gini: 0.432, Boundary: 7.05\n",
      "Gini: 0.438, Boundary: 7.15\n",
      "Gini: 0.457, Boundary: 7.25\n",
      "Gini: 0.462, Boundary: 7.35\n",
      "Gini: 0.468, Boundary: 7.50\n",
      "Gini: 0.474, Boundary: 7.65\n",
      "Gini: 0.495, Boundary: 7.80\n",
      "Best -> Gini: 0.393, Boundary: 6.15\n",
      "--------------------------------------------------\n",
      "sepal_width\n",
      "Gini: 0.495, Boundary: 2.10\n",
      "Gini: 0.495, Boundary: 2.25\n",
      "Gini: 0.481, Boundary: 2.35\n",
      "Gini: 0.464, Boundary: 2.45\n",
      "Gini: 0.478, Boundary: 2.55\n",
      "Gini: 0.477, Boundary: 2.65\n",
      "Gini: 0.477, Boundary: 2.75\n",
      "Gini: 0.487, Boundary: 2.85\n",
      "Gini: 0.466, Boundary: 2.95\n",
      "Gini: 0.478, Boundary: 3.05\n",
      "Gini: 0.478, Boundary: 3.15\n",
      "Gini: 0.480, Boundary: 3.25\n",
      "Gini: 0.486, Boundary: 3.35\n",
      "Gini: 0.485, Boundary: 3.50\n",
      "Gini: 0.490, Boundary: 3.70\n",
      "Best -> Gini: 0.464, Boundary: 2.45\n",
      "--------------------------------------------------\n",
      "petal_length\n",
      "Gini: 0.495, Boundary: 3.15\n",
      "Gini: 0.485, Boundary: 3.40\n",
      "Gini: 0.474, Boundary: 3.55\n",
      "Gini: 0.468, Boundary: 3.65\n",
      "Gini: 0.462, Boundary: 3.75\n",
      "Gini: 0.457, Boundary: 3.85\n",
      "Gini: 0.438, Boundary: 3.95\n",
      "Gini: 0.405, Boundary: 4.05\n",
      "Gini: 0.383, Boundary: 4.15\n",
      "Gini: 0.351, Boundary: 4.25\n",
      "Gini: 0.333, Boundary: 4.35\n",
      "Gini: 0.296, Boundary: 4.45\n",
      "Gini: 0.237, Boundary: 4.55\n",
      "Gini: 0.199, Boundary: 4.65\n",
      "Gini: 0.126, Boundary: 4.75\n",
      "Gini: 0.130, Boundary: 4.85\n",
      "Gini: 0.145, Boundary: 4.95\n",
      "Gini: 0.172, Boundary: 5.05\n",
      "Gini: 0.242, Boundary: 5.15\n",
      "Gini: 0.265, Boundary: 5.25\n",
      "Gini: 0.286, Boundary: 5.35\n",
      "Gini: 0.306, Boundary: 5.45\n",
      "Gini: 0.333, Boundary: 5.55\n",
      "Gini: 0.383, Boundary: 5.65\n",
      "Gini: 0.405, Boundary: 5.75\n",
      "Gini: 0.425, Boundary: 5.85\n",
      "Gini: 0.438, Boundary: 5.95\n",
      "Gini: 0.451, Boundary: 6.05\n",
      "Gini: 0.468, Boundary: 6.20\n",
      "Gini: 0.474, Boundary: 6.35\n",
      "Gini: 0.479, Boundary: 6.50\n",
      "Gini: 0.485, Boundary: 6.65\n",
      "Gini: 0.495, Boundary: 6.80\n",
      "Best -> Gini: 0.126, Boundary: 4.75\n",
      "--------------------------------------------------\n",
      "petal_width\n",
      "Gini: 0.462, Boundary: 1.05\n",
      "Gini: 0.444, Boundary: 1.15\n",
      "Gini: 0.412, Boundary: 1.25\n",
      "Gini: 0.306, Boundary: 1.35\n",
      "Gini: 0.249, Boundary: 1.45\n",
      "Gini: 0.147, Boundary: 1.55\n",
      "Gini: 0.112, Boundary: 1.65\n",
      "Gini: 0.110, Boundary: 1.75\n",
      "Gini: 0.242, Boundary: 1.85\n",
      "Gini: 0.296, Boundary: 1.95\n",
      "Gini: 0.351, Boundary: 2.05\n",
      "Gini: 0.398, Boundary: 2.15\n",
      "Gini: 0.419, Boundary: 2.25\n",
      "Gini: 0.468, Boundary: 2.35\n",
      "Gini: 0.485, Boundary: 2.45\n",
      "Best -> Gini: 0.110, Boundary: 1.75\n",
      "--------------------------------------------------\n"
     ]
    }
   ],
   "source": [
    "for c in df_petal_right.columns[:-1]:\n",
    "    print(f'{c}')\n",
    "    print_splits(df_petal_right, c)\n",
    "    print(''.join(['-' for _ in range(50)]))"
   ]
  },
  {
   "cell_type": "markdown",
   "id": "2fef2e5d-124c-4bca-afdc-fa44df8b46a3",
   "metadata": {
    "id": "2fef2e5d-124c-4bca-afdc-fa44df8b46a3"
   },
   "source": [
    "# 📊 Introduction to the scikit-learn (Sklearn) library\n",
    "* Open source library for predictive data analysis. Contains algorithms for classification, clustering and others.\n",
    "\n",
    "![meme01](https://github.com/rasvob/VSB-FEI-Fundamentals-of-Machine-Learning-Exercises/blob/master/images/fml_07_meme_01.jpg?raw=true)\n",
    "\n",
    "- Decision tree https://scikit-learn.org/stable/modules/generated/sklearn.tree.DecisionTreeClassifier.html\n",
    "- Train test split https://scikit-learn.org/stable/modules/generated/sklearn.model_selection.train_test_split.html\n",
    "- Accuracy https://scikit-learn.org/stable/modules/generated/sklearn.metrics.accuracy_score.html"
   ]
  },
  {
   "cell_type": "code",
   "execution_count": null,
   "id": "be61fad6-a531-47be-9f33-4a1ba0da6950",
   "metadata": {
    "id": "be61fad6-a531-47be-9f33-4a1ba0da6950"
   },
   "outputs": [],
   "source": [
    "from sklearn.tree import DecisionTreeClassifier, export_text, plot_tree\n",
    "from sklearn.model_selection import train_test_split\n",
    "from sklearn.metrics import accuracy_score"
   ]
  },
  {
   "cell_type": "markdown",
   "id": "8f2ee01e-a17e-41bc-8706-cb7acabb6787",
   "metadata": {
    "id": "8f2ee01e-a17e-41bc-8706-cb7acabb6787"
   },
   "source": [
    "# Let's start with splitting the data into the input and output part\n",
    "* 💡 Usually named as a *X* and *y* variables"
   ]
  },
  {
   "cell_type": "code",
   "execution_count": null,
   "id": "2257c875-3070-4153-8ec8-76bdb40b0d67",
   "metadata": {
    "id": "2257c875-3070-4153-8ec8-76bdb40b0d67"
   },
   "outputs": [],
   "source": [
    "X, y = df.loc[:, df.columns != 'species'], df.loc[:,'species']"
   ]
  },
  {
   "cell_type": "code",
   "execution_count": null,
   "id": "1ea2ff8e-1857-4490-a373-03009419bd5d",
   "metadata": {
    "colab": {
     "base_uri": "https://localhost:8080/",
     "height": 226
    },
    "executionInfo": {
     "elapsed": 194,
     "status": "ok",
     "timestamp": 1730970271414,
     "user": {
      "displayName": "HeXaMeThYlEnTrIpEr0x0dIaMiN",
      "userId": "15629405324849936436"
     },
     "user_tz": -60
    },
    "id": "1ea2ff8e-1857-4490-a373-03009419bd5d",
    "outputId": "ae7da88b-c696-4198-d328-842c9e8d2e0e"
   },
   "outputs": [
    {
     "data": {
      "application/vnd.google.colaboratory.intrinsic+json": {
       "summary": "{\n  \"name\": \"X\",\n  \"rows\": 150,\n  \"fields\": [\n    {\n      \"column\": \"sepal_length\",\n      \"properties\": {\n        \"dtype\": \"number\",\n        \"std\": 0.8280661279778629,\n        \"min\": 4.3,\n        \"max\": 7.9,\n        \"num_unique_values\": 35,\n        \"samples\": [\n          6.2,\n          4.5,\n          5.6\n        ],\n        \"semantic_type\": \"\",\n        \"description\": \"\"\n      }\n    },\n    {\n      \"column\": \"sepal_width\",\n      \"properties\": {\n        \"dtype\": \"number\",\n        \"std\": 0.4335943113621737,\n        \"min\": 2.0,\n        \"max\": 4.4,\n        \"num_unique_values\": 23,\n        \"samples\": [\n          2.3,\n          4.0,\n          3.5\n        ],\n        \"semantic_type\": \"\",\n        \"description\": \"\"\n      }\n    },\n    {\n      \"column\": \"petal_length\",\n      \"properties\": {\n        \"dtype\": \"number\",\n        \"std\": 1.7644204199522617,\n        \"min\": 1.0,\n        \"max\": 6.9,\n        \"num_unique_values\": 43,\n        \"samples\": [\n          6.7,\n          3.8,\n          3.7\n        ],\n        \"semantic_type\": \"\",\n        \"description\": \"\"\n      }\n    },\n    {\n      \"column\": \"petal_width\",\n      \"properties\": {\n        \"dtype\": \"number\",\n        \"std\": 0.7631607417008414,\n        \"min\": 0.1,\n        \"max\": 2.5,\n        \"num_unique_values\": 22,\n        \"samples\": [\n          0.2,\n          1.2,\n          1.3\n        ],\n        \"semantic_type\": \"\",\n        \"description\": \"\"\n      }\n    }\n  ]\n}",
       "type": "dataframe",
       "variable_name": "X"
      },
      "text/html": [
       "\n",
       "  <div id=\"df-9ea3823b-9583-4d0e-9bbe-5791c934267d\" class=\"colab-df-container\">\n",
       "    <div>\n",
       "<style scoped>\n",
       "    .dataframe tbody tr th:only-of-type {\n",
       "        vertical-align: middle;\n",
       "    }\n",
       "\n",
       "    .dataframe tbody tr th {\n",
       "        vertical-align: top;\n",
       "    }\n",
       "\n",
       "    .dataframe thead th {\n",
       "        text-align: right;\n",
       "    }\n",
       "</style>\n",
       "<table border=\"1\" class=\"dataframe\">\n",
       "  <thead>\n",
       "    <tr style=\"text-align: right;\">\n",
       "      <th></th>\n",
       "      <th>sepal_length</th>\n",
       "      <th>sepal_width</th>\n",
       "      <th>petal_length</th>\n",
       "      <th>petal_width</th>\n",
       "    </tr>\n",
       "  </thead>\n",
       "  <tbody>\n",
       "    <tr>\n",
       "      <th>0</th>\n",
       "      <td>5.1</td>\n",
       "      <td>3.5</td>\n",
       "      <td>1.4</td>\n",
       "      <td>0.2</td>\n",
       "    </tr>\n",
       "    <tr>\n",
       "      <th>1</th>\n",
       "      <td>4.9</td>\n",
       "      <td>3.0</td>\n",
       "      <td>1.4</td>\n",
       "      <td>0.2</td>\n",
       "    </tr>\n",
       "    <tr>\n",
       "      <th>2</th>\n",
       "      <td>4.7</td>\n",
       "      <td>3.2</td>\n",
       "      <td>1.3</td>\n",
       "      <td>0.2</td>\n",
       "    </tr>\n",
       "    <tr>\n",
       "      <th>3</th>\n",
       "      <td>4.6</td>\n",
       "      <td>3.1</td>\n",
       "      <td>1.5</td>\n",
       "      <td>0.2</td>\n",
       "    </tr>\n",
       "    <tr>\n",
       "      <th>4</th>\n",
       "      <td>5.0</td>\n",
       "      <td>3.6</td>\n",
       "      <td>1.4</td>\n",
       "      <td>0.2</td>\n",
       "    </tr>\n",
       "  </tbody>\n",
       "</table>\n",
       "</div>\n",
       "    <div class=\"colab-df-buttons\">\n",
       "\n",
       "  <div class=\"colab-df-container\">\n",
       "    <button class=\"colab-df-convert\" onclick=\"convertToInteractive('df-9ea3823b-9583-4d0e-9bbe-5791c934267d')\"\n",
       "            title=\"Convert this dataframe to an interactive table.\"\n",
       "            style=\"display:none;\">\n",
       "\n",
       "  <svg xmlns=\"http://www.w3.org/2000/svg\" height=\"24px\" viewBox=\"0 -960 960 960\">\n",
       "    <path d=\"M120-120v-720h720v720H120Zm60-500h600v-160H180v160Zm220 220h160v-160H400v160Zm0 220h160v-160H400v160ZM180-400h160v-160H180v160Zm440 0h160v-160H620v160ZM180-180h160v-160H180v160Zm440 0h160v-160H620v160Z\"/>\n",
       "  </svg>\n",
       "    </button>\n",
       "\n",
       "  <style>\n",
       "    .colab-df-container {\n",
       "      display:flex;\n",
       "      gap: 12px;\n",
       "    }\n",
       "\n",
       "    .colab-df-convert {\n",
       "      background-color: #E8F0FE;\n",
       "      border: none;\n",
       "      border-radius: 50%;\n",
       "      cursor: pointer;\n",
       "      display: none;\n",
       "      fill: #1967D2;\n",
       "      height: 32px;\n",
       "      padding: 0 0 0 0;\n",
       "      width: 32px;\n",
       "    }\n",
       "\n",
       "    .colab-df-convert:hover {\n",
       "      background-color: #E2EBFA;\n",
       "      box-shadow: 0px 1px 2px rgba(60, 64, 67, 0.3), 0px 1px 3px 1px rgba(60, 64, 67, 0.15);\n",
       "      fill: #174EA6;\n",
       "    }\n",
       "\n",
       "    .colab-df-buttons div {\n",
       "      margin-bottom: 4px;\n",
       "    }\n",
       "\n",
       "    [theme=dark] .colab-df-convert {\n",
       "      background-color: #3B4455;\n",
       "      fill: #D2E3FC;\n",
       "    }\n",
       "\n",
       "    [theme=dark] .colab-df-convert:hover {\n",
       "      background-color: #434B5C;\n",
       "      box-shadow: 0px 1px 3px 1px rgba(0, 0, 0, 0.15);\n",
       "      filter: drop-shadow(0px 1px 2px rgba(0, 0, 0, 0.3));\n",
       "      fill: #FFFFFF;\n",
       "    }\n",
       "  </style>\n",
       "\n",
       "    <script>\n",
       "      const buttonEl =\n",
       "        document.querySelector('#df-9ea3823b-9583-4d0e-9bbe-5791c934267d button.colab-df-convert');\n",
       "      buttonEl.style.display =\n",
       "        google.colab.kernel.accessAllowed ? 'block' : 'none';\n",
       "\n",
       "      async function convertToInteractive(key) {\n",
       "        const element = document.querySelector('#df-9ea3823b-9583-4d0e-9bbe-5791c934267d');\n",
       "        const dataTable =\n",
       "          await google.colab.kernel.invokeFunction('convertToInteractive',\n",
       "                                                    [key], {});\n",
       "        if (!dataTable) return;\n",
       "\n",
       "        const docLinkHtml = 'Like what you see? Visit the ' +\n",
       "          '<a target=\"_blank\" href=https://colab.research.google.com/notebooks/data_table.ipynb>data table notebook</a>'\n",
       "          + ' to learn more about interactive tables.';\n",
       "        element.innerHTML = '';\n",
       "        dataTable['output_type'] = 'display_data';\n",
       "        await google.colab.output.renderOutput(dataTable, element);\n",
       "        const docLink = document.createElement('div');\n",
       "        docLink.innerHTML = docLinkHtml;\n",
       "        element.appendChild(docLink);\n",
       "      }\n",
       "    </script>\n",
       "  </div>\n",
       "\n",
       "\n",
       "<div id=\"df-004f853e-9916-43d0-b3d8-8936143f1f57\">\n",
       "  <button class=\"colab-df-quickchart\" onclick=\"quickchart('df-004f853e-9916-43d0-b3d8-8936143f1f57')\"\n",
       "            title=\"Suggest charts\"\n",
       "            style=\"display:none;\">\n",
       "\n",
       "<svg xmlns=\"http://www.w3.org/2000/svg\" height=\"24px\"viewBox=\"0 0 24 24\"\n",
       "     width=\"24px\">\n",
       "    <g>\n",
       "        <path d=\"M19 3H5c-1.1 0-2 .9-2 2v14c0 1.1.9 2 2 2h14c1.1 0 2-.9 2-2V5c0-1.1-.9-2-2-2zM9 17H7v-7h2v7zm4 0h-2V7h2v10zm4 0h-2v-4h2v4z\"/>\n",
       "    </g>\n",
       "</svg>\n",
       "  </button>\n",
       "\n",
       "<style>\n",
       "  .colab-df-quickchart {\n",
       "      --bg-color: #E8F0FE;\n",
       "      --fill-color: #1967D2;\n",
       "      --hover-bg-color: #E2EBFA;\n",
       "      --hover-fill-color: #174EA6;\n",
       "      --disabled-fill-color: #AAA;\n",
       "      --disabled-bg-color: #DDD;\n",
       "  }\n",
       "\n",
       "  [theme=dark] .colab-df-quickchart {\n",
       "      --bg-color: #3B4455;\n",
       "      --fill-color: #D2E3FC;\n",
       "      --hover-bg-color: #434B5C;\n",
       "      --hover-fill-color: #FFFFFF;\n",
       "      --disabled-bg-color: #3B4455;\n",
       "      --disabled-fill-color: #666;\n",
       "  }\n",
       "\n",
       "  .colab-df-quickchart {\n",
       "    background-color: var(--bg-color);\n",
       "    border: none;\n",
       "    border-radius: 50%;\n",
       "    cursor: pointer;\n",
       "    display: none;\n",
       "    fill: var(--fill-color);\n",
       "    height: 32px;\n",
       "    padding: 0;\n",
       "    width: 32px;\n",
       "  }\n",
       "\n",
       "  .colab-df-quickchart:hover {\n",
       "    background-color: var(--hover-bg-color);\n",
       "    box-shadow: 0 1px 2px rgba(60, 64, 67, 0.3), 0 1px 3px 1px rgba(60, 64, 67, 0.15);\n",
       "    fill: var(--button-hover-fill-color);\n",
       "  }\n",
       "\n",
       "  .colab-df-quickchart-complete:disabled,\n",
       "  .colab-df-quickchart-complete:disabled:hover {\n",
       "    background-color: var(--disabled-bg-color);\n",
       "    fill: var(--disabled-fill-color);\n",
       "    box-shadow: none;\n",
       "  }\n",
       "\n",
       "  .colab-df-spinner {\n",
       "    border: 2px solid var(--fill-color);\n",
       "    border-color: transparent;\n",
       "    border-bottom-color: var(--fill-color);\n",
       "    animation:\n",
       "      spin 1s steps(1) infinite;\n",
       "  }\n",
       "\n",
       "  @keyframes spin {\n",
       "    0% {\n",
       "      border-color: transparent;\n",
       "      border-bottom-color: var(--fill-color);\n",
       "      border-left-color: var(--fill-color);\n",
       "    }\n",
       "    20% {\n",
       "      border-color: transparent;\n",
       "      border-left-color: var(--fill-color);\n",
       "      border-top-color: var(--fill-color);\n",
       "    }\n",
       "    30% {\n",
       "      border-color: transparent;\n",
       "      border-left-color: var(--fill-color);\n",
       "      border-top-color: var(--fill-color);\n",
       "      border-right-color: var(--fill-color);\n",
       "    }\n",
       "    40% {\n",
       "      border-color: transparent;\n",
       "      border-right-color: var(--fill-color);\n",
       "      border-top-color: var(--fill-color);\n",
       "    }\n",
       "    60% {\n",
       "      border-color: transparent;\n",
       "      border-right-color: var(--fill-color);\n",
       "    }\n",
       "    80% {\n",
       "      border-color: transparent;\n",
       "      border-right-color: var(--fill-color);\n",
       "      border-bottom-color: var(--fill-color);\n",
       "    }\n",
       "    90% {\n",
       "      border-color: transparent;\n",
       "      border-bottom-color: var(--fill-color);\n",
       "    }\n",
       "  }\n",
       "</style>\n",
       "\n",
       "  <script>\n",
       "    async function quickchart(key) {\n",
       "      const quickchartButtonEl =\n",
       "        document.querySelector('#' + key + ' button');\n",
       "      quickchartButtonEl.disabled = true;  // To prevent multiple clicks.\n",
       "      quickchartButtonEl.classList.add('colab-df-spinner');\n",
       "      try {\n",
       "        const charts = await google.colab.kernel.invokeFunction(\n",
       "            'suggestCharts', [key], {});\n",
       "      } catch (error) {\n",
       "        console.error('Error during call to suggestCharts:', error);\n",
       "      }\n",
       "      quickchartButtonEl.classList.remove('colab-df-spinner');\n",
       "      quickchartButtonEl.classList.add('colab-df-quickchart-complete');\n",
       "    }\n",
       "    (() => {\n",
       "      let quickchartButtonEl =\n",
       "        document.querySelector('#df-004f853e-9916-43d0-b3d8-8936143f1f57 button');\n",
       "      quickchartButtonEl.style.display =\n",
       "        google.colab.kernel.accessAllowed ? 'block' : 'none';\n",
       "    })();\n",
       "  </script>\n",
       "</div>\n",
       "\n",
       "    </div>\n",
       "  </div>\n"
      ],
      "text/plain": [
       "   sepal_length  sepal_width  petal_length  petal_width\n",
       "0           5.1          3.5           1.4          0.2\n",
       "1           4.9          3.0           1.4          0.2\n",
       "2           4.7          3.2           1.3          0.2\n",
       "3           4.6          3.1           1.5          0.2\n",
       "4           5.0          3.6           1.4          0.2"
      ]
     },
     "execution_count": 92,
     "metadata": {},
     "output_type": "execute_result"
    }
   ],
   "source": [
    "X.head()"
   ]
  },
  {
   "cell_type": "code",
   "execution_count": null,
   "id": "411cfe95-46ef-4f0c-9b05-0814a4d4f3a0",
   "metadata": {
    "colab": {
     "base_uri": "https://localhost:8080/",
     "height": 261
    },
    "executionInfo": {
     "elapsed": 193,
     "status": "ok",
     "timestamp": 1730970271415,
     "user": {
      "displayName": "HeXaMeThYlEnTrIpEr0x0dIaMiN",
      "userId": "15629405324849936436"
     },
     "user_tz": -60
    },
    "id": "411cfe95-46ef-4f0c-9b05-0814a4d4f3a0",
    "outputId": "4dd09d2d-7d97-4f04-d989-5cd57318913d"
   },
   "outputs": [
    {
     "data": {
      "text/html": [
       "<div>\n",
       "<style scoped>\n",
       "    .dataframe tbody tr th:only-of-type {\n",
       "        vertical-align: middle;\n",
       "    }\n",
       "\n",
       "    .dataframe tbody tr th {\n",
       "        vertical-align: top;\n",
       "    }\n",
       "\n",
       "    .dataframe thead th {\n",
       "        text-align: right;\n",
       "    }\n",
       "</style>\n",
       "<table border=\"1\" class=\"dataframe\">\n",
       "  <thead>\n",
       "    <tr style=\"text-align: right;\">\n",
       "      <th></th>\n",
       "      <th>species</th>\n",
       "    </tr>\n",
       "  </thead>\n",
       "  <tbody>\n",
       "    <tr>\n",
       "      <th>0</th>\n",
       "      <td>setosa</td>\n",
       "    </tr>\n",
       "    <tr>\n",
       "      <th>1</th>\n",
       "      <td>setosa</td>\n",
       "    </tr>\n",
       "    <tr>\n",
       "      <th>2</th>\n",
       "      <td>setosa</td>\n",
       "    </tr>\n",
       "    <tr>\n",
       "      <th>3</th>\n",
       "      <td>setosa</td>\n",
       "    </tr>\n",
       "    <tr>\n",
       "      <th>4</th>\n",
       "      <td>setosa</td>\n",
       "    </tr>\n",
       "  </tbody>\n",
       "</table>\n",
       "</div><br><label><b>dtype:</b> object</label>"
      ],
      "text/plain": [
       "0    setosa\n",
       "1    setosa\n",
       "2    setosa\n",
       "3    setosa\n",
       "4    setosa\n",
       "Name: species, dtype: object"
      ]
     },
     "execution_count": 93,
     "metadata": {},
     "output_type": "execute_result"
    }
   ],
   "source": [
    "y.head()"
   ]
  },
  {
   "cell_type": "markdown",
   "id": "19178e66-00d6-4009-992d-e6ac171865bc",
   "metadata": {
    "id": "19178e66-00d6-4009-992d-e6ac171865bc"
   },
   "source": [
    "# What is the size of our data?"
   ]
  },
  {
   "cell_type": "code",
   "execution_count": null,
   "id": "22b6a5d8-b00c-4f5f-b845-f7eacb417e5e",
   "metadata": {
    "colab": {
     "base_uri": "https://localhost:8080/"
    },
    "executionInfo": {
     "elapsed": 191,
     "status": "ok",
     "timestamp": 1730970271415,
     "user": {
      "displayName": "HeXaMeThYlEnTrIpEr0x0dIaMiN",
      "userId": "15629405324849936436"
     },
     "user_tz": -60
    },
    "id": "22b6a5d8-b00c-4f5f-b845-f7eacb417e5e",
    "outputId": "331456aa-9d0c-4525-9dfa-f923b2a0e971"
   },
   "outputs": [
    {
     "data": {
      "text/plain": [
       "((150, 4), (150,))"
      ]
     },
     "execution_count": 94,
     "metadata": {},
     "output_type": "execute_result"
    }
   ],
   "source": [
    "X.shape, y.shape"
   ]
  },
  {
   "cell_type": "markdown",
   "id": "50d3479c-173a-486e-a359-01335268b4f5",
   "metadata": {
    "id": "50d3479c-173a-486e-a359-01335268b4f5"
   },
   "source": [
    "## 🔎 Doing evaluation process for every classification or regressions task is mandatory\n",
    "* Do you know how to evaluate models?\n",
    "* Do you know **train test split** method for evaluation?\n",
    "* Do you know any **different** evaluation process?"
   ]
  },
  {
   "cell_type": "markdown",
   "id": "53036baf-2105-45be-84fd-53cc7aeecb6b",
   "metadata": {
    "id": "53036baf-2105-45be-84fd-53cc7aeecb6b"
   },
   "source": [
    "## Lets continue with train test split process. Split dataset to train:test ratio 60:40. Check how many records/rows do you have in splitted variables.\n",
    "* 💡 Number of rows in the *X* and *y* in the Train/Test part of the data has to be equal"
   ]
  },
  {
   "cell_type": "code",
   "execution_count": null,
   "id": "e6d81bb3-e0e8-412f-939c-55c460976077",
   "metadata": {
    "id": "e6d81bb3-e0e8-412f-939c-55c460976077"
   },
   "outputs": [],
   "source": [
    "X_train, X_test, y_train, y_test = train_test_split(X,y, test_size=0.4)"
   ]
  },
  {
   "cell_type": "markdown",
   "id": "9f0188db-498f-40e1-a755-7ad744f16375",
   "metadata": {
    "id": "9f0188db-498f-40e1-a755-7ad744f16375"
   },
   "source": [
    "## Take a look on data in variable y_test\n",
    "- Can you detect how many elements of each class is represented in test split?"
   ]
  },
  {
   "cell_type": "code",
   "execution_count": null,
   "id": "6537945a-4b29-4649-958a-398a74e82420",
   "metadata": {
    "colab": {
     "base_uri": "https://localhost:8080/",
     "height": 229
    },
    "executionInfo": {
     "elapsed": 133,
     "status": "ok",
     "timestamp": 1730970271415,
     "user": {
      "displayName": "HeXaMeThYlEnTrIpEr0x0dIaMiN",
      "userId": "15629405324849936436"
     },
     "user_tz": -60
    },
    "id": "6537945a-4b29-4649-958a-398a74e82420",
    "outputId": "332bad8d-d931-4fca-ec05-ad107ce11765"
   },
   "outputs": [
    {
     "data": {
      "text/html": [
       "<div>\n",
       "<style scoped>\n",
       "    .dataframe tbody tr th:only-of-type {\n",
       "        vertical-align: middle;\n",
       "    }\n",
       "\n",
       "    .dataframe tbody tr th {\n",
       "        vertical-align: top;\n",
       "    }\n",
       "\n",
       "    .dataframe thead th {\n",
       "        text-align: right;\n",
       "    }\n",
       "</style>\n",
       "<table border=\"1\" class=\"dataframe\">\n",
       "  <thead>\n",
       "    <tr style=\"text-align: right;\">\n",
       "      <th></th>\n",
       "      <th>count</th>\n",
       "    </tr>\n",
       "    <tr>\n",
       "      <th>species</th>\n",
       "      <th></th>\n",
       "    </tr>\n",
       "  </thead>\n",
       "  <tbody>\n",
       "    <tr>\n",
       "      <th>setosa</th>\n",
       "      <td>21</td>\n",
       "    </tr>\n",
       "    <tr>\n",
       "      <th>virginica</th>\n",
       "      <td>20</td>\n",
       "    </tr>\n",
       "    <tr>\n",
       "      <th>versicolor</th>\n",
       "      <td>19</td>\n",
       "    </tr>\n",
       "  </tbody>\n",
       "</table>\n",
       "</div><br><label><b>dtype:</b> int64</label>"
      ],
      "text/plain": [
       "species\n",
       "setosa        21\n",
       "virginica     20\n",
       "versicolor    19\n",
       "Name: count, dtype: int64"
      ]
     },
     "execution_count": 96,
     "metadata": {},
     "output_type": "execute_result"
    }
   ],
   "source": [
    "pd.Series(y_test).value_counts()"
   ]
  },
  {
   "cell_type": "markdown",
   "id": "b4dd1830-fd70-4d83-a7b0-25f1f12b1f59",
   "metadata": {
    "id": "b4dd1830-fd70-4d83-a7b0-25f1f12b1f59"
   },
   "source": [
    "# 🚀 Create the Decision tree classifier instance"
   ]
  },
  {
   "cell_type": "code",
   "execution_count": null,
   "id": "7a0cde27-cd89-424d-87a5-8720546d2f90",
   "metadata": {
    "id": "7a0cde27-cd89-424d-87a5-8720546d2f90"
   },
   "outputs": [],
   "source": [
    "clf = DecisionTreeClassifier( )"
   ]
  },
  {
   "cell_type": "markdown",
   "id": "c2f1b95c-308b-4a25-9d99-a3a47b796720",
   "metadata": {
    "id": "c2f1b95c-308b-4a25-9d99-a3a47b796720"
   },
   "source": [
    "## 💡 Use *fit()* method for training of classifier"
   ]
  },
  {
   "cell_type": "code",
   "execution_count": null,
   "id": "e2fbb2e6-12b0-460e-9457-c12066425f87",
   "metadata": {
    "colab": {
     "base_uri": "https://localhost:8080/",
     "height": 100
    },
    "executionInfo": {
     "elapsed": 131,
     "status": "ok",
     "timestamp": 1730970271416,
     "user": {
      "displayName": "HeXaMeThYlEnTrIpEr0x0dIaMiN",
      "userId": "15629405324849936436"
     },
     "user_tz": -60
    },
    "id": "e2fbb2e6-12b0-460e-9457-c12066425f87",
    "outputId": "41e6044b-e660-4f2f-e121-775fdc32d554"
   },
   "outputs": [
    {
     "data": {
      "text/html": [
       "<style>#sk-container-id-2 {\n",
       "  /* Definition of color scheme common for light and dark mode */\n",
       "  --sklearn-color-text: black;\n",
       "  --sklearn-color-line: gray;\n",
       "  /* Definition of color scheme for unfitted estimators */\n",
       "  --sklearn-color-unfitted-level-0: #fff5e6;\n",
       "  --sklearn-color-unfitted-level-1: #f6e4d2;\n",
       "  --sklearn-color-unfitted-level-2: #ffe0b3;\n",
       "  --sklearn-color-unfitted-level-3: chocolate;\n",
       "  /* Definition of color scheme for fitted estimators */\n",
       "  --sklearn-color-fitted-level-0: #f0f8ff;\n",
       "  --sklearn-color-fitted-level-1: #d4ebff;\n",
       "  --sklearn-color-fitted-level-2: #b3dbfd;\n",
       "  --sklearn-color-fitted-level-3: cornflowerblue;\n",
       "\n",
       "  /* Specific color for light theme */\n",
       "  --sklearn-color-text-on-default-background: var(--sg-text-color, var(--theme-code-foreground, var(--jp-content-font-color1, black)));\n",
       "  --sklearn-color-background: var(--sg-background-color, var(--theme-background, var(--jp-layout-color0, white)));\n",
       "  --sklearn-color-border-box: var(--sg-text-color, var(--theme-code-foreground, var(--jp-content-font-color1, black)));\n",
       "  --sklearn-color-icon: #696969;\n",
       "\n",
       "  @media (prefers-color-scheme: dark) {\n",
       "    /* Redefinition of color scheme for dark theme */\n",
       "    --sklearn-color-text-on-default-background: var(--sg-text-color, var(--theme-code-foreground, var(--jp-content-font-color1, white)));\n",
       "    --sklearn-color-background: var(--sg-background-color, var(--theme-background, var(--jp-layout-color0, #111)));\n",
       "    --sklearn-color-border-box: var(--sg-text-color, var(--theme-code-foreground, var(--jp-content-font-color1, white)));\n",
       "    --sklearn-color-icon: #878787;\n",
       "  }\n",
       "}\n",
       "\n",
       "#sk-container-id-2 {\n",
       "  color: var(--sklearn-color-text);\n",
       "}\n",
       "\n",
       "#sk-container-id-2 pre {\n",
       "  padding: 0;\n",
       "}\n",
       "\n",
       "#sk-container-id-2 input.sk-hidden--visually {\n",
       "  border: 0;\n",
       "  clip: rect(1px 1px 1px 1px);\n",
       "  clip: rect(1px, 1px, 1px, 1px);\n",
       "  height: 1px;\n",
       "  margin: -1px;\n",
       "  overflow: hidden;\n",
       "  padding: 0;\n",
       "  position: absolute;\n",
       "  width: 1px;\n",
       "}\n",
       "\n",
       "#sk-container-id-2 div.sk-dashed-wrapped {\n",
       "  border: 1px dashed var(--sklearn-color-line);\n",
       "  margin: 0 0.4em 0.5em 0.4em;\n",
       "  box-sizing: border-box;\n",
       "  padding-bottom: 0.4em;\n",
       "  background-color: var(--sklearn-color-background);\n",
       "}\n",
       "\n",
       "#sk-container-id-2 div.sk-container {\n",
       "  /* jupyter's `normalize.less` sets `[hidden] { display: none; }`\n",
       "     but bootstrap.min.css set `[hidden] { display: none !important; }`\n",
       "     so we also need the `!important` here to be able to override the\n",
       "     default hidden behavior on the sphinx rendered scikit-learn.org.\n",
       "     See: https://github.com/scikit-learn/scikit-learn/issues/21755 */\n",
       "  display: inline-block !important;\n",
       "  position: relative;\n",
       "}\n",
       "\n",
       "#sk-container-id-2 div.sk-text-repr-fallback {\n",
       "  display: none;\n",
       "}\n",
       "\n",
       "div.sk-parallel-item,\n",
       "div.sk-serial,\n",
       "div.sk-item {\n",
       "  /* draw centered vertical line to link estimators */\n",
       "  background-image: linear-gradient(var(--sklearn-color-text-on-default-background), var(--sklearn-color-text-on-default-background));\n",
       "  background-size: 2px 100%;\n",
       "  background-repeat: no-repeat;\n",
       "  background-position: center center;\n",
       "}\n",
       "\n",
       "/* Parallel-specific style estimator block */\n",
       "\n",
       "#sk-container-id-2 div.sk-parallel-item::after {\n",
       "  content: \"\";\n",
       "  width: 100%;\n",
       "  border-bottom: 2px solid var(--sklearn-color-text-on-default-background);\n",
       "  flex-grow: 1;\n",
       "}\n",
       "\n",
       "#sk-container-id-2 div.sk-parallel {\n",
       "  display: flex;\n",
       "  align-items: stretch;\n",
       "  justify-content: center;\n",
       "  background-color: var(--sklearn-color-background);\n",
       "  position: relative;\n",
       "}\n",
       "\n",
       "#sk-container-id-2 div.sk-parallel-item {\n",
       "  display: flex;\n",
       "  flex-direction: column;\n",
       "}\n",
       "\n",
       "#sk-container-id-2 div.sk-parallel-item:first-child::after {\n",
       "  align-self: flex-end;\n",
       "  width: 50%;\n",
       "}\n",
       "\n",
       "#sk-container-id-2 div.sk-parallel-item:last-child::after {\n",
       "  align-self: flex-start;\n",
       "  width: 50%;\n",
       "}\n",
       "\n",
       "#sk-container-id-2 div.sk-parallel-item:only-child::after {\n",
       "  width: 0;\n",
       "}\n",
       "\n",
       "/* Serial-specific style estimator block */\n",
       "\n",
       "#sk-container-id-2 div.sk-serial {\n",
       "  display: flex;\n",
       "  flex-direction: column;\n",
       "  align-items: center;\n",
       "  background-color: var(--sklearn-color-background);\n",
       "  padding-right: 1em;\n",
       "  padding-left: 1em;\n",
       "}\n",
       "\n",
       "\n",
       "/* Toggleable style: style used for estimator/Pipeline/ColumnTransformer box that is\n",
       "clickable and can be expanded/collapsed.\n",
       "- Pipeline and ColumnTransformer use this feature and define the default style\n",
       "- Estimators will overwrite some part of the style using the `sk-estimator` class\n",
       "*/\n",
       "\n",
       "/* Pipeline and ColumnTransformer style (default) */\n",
       "\n",
       "#sk-container-id-2 div.sk-toggleable {\n",
       "  /* Default theme specific background. It is overwritten whether we have a\n",
       "  specific estimator or a Pipeline/ColumnTransformer */\n",
       "  background-color: var(--sklearn-color-background);\n",
       "}\n",
       "\n",
       "/* Toggleable label */\n",
       "#sk-container-id-2 label.sk-toggleable__label {\n",
       "  cursor: pointer;\n",
       "  display: block;\n",
       "  width: 100%;\n",
       "  margin-bottom: 0;\n",
       "  padding: 0.5em;\n",
       "  box-sizing: border-box;\n",
       "  text-align: center;\n",
       "}\n",
       "\n",
       "#sk-container-id-2 label.sk-toggleable__label-arrow:before {\n",
       "  /* Arrow on the left of the label */\n",
       "  content: \"▸\";\n",
       "  float: left;\n",
       "  margin-right: 0.25em;\n",
       "  color: var(--sklearn-color-icon);\n",
       "}\n",
       "\n",
       "#sk-container-id-2 label.sk-toggleable__label-arrow:hover:before {\n",
       "  color: var(--sklearn-color-text);\n",
       "}\n",
       "\n",
       "/* Toggleable content - dropdown */\n",
       "\n",
       "#sk-container-id-2 div.sk-toggleable__content {\n",
       "  max-height: 0;\n",
       "  max-width: 0;\n",
       "  overflow: hidden;\n",
       "  text-align: left;\n",
       "  /* unfitted */\n",
       "  background-color: var(--sklearn-color-unfitted-level-0);\n",
       "}\n",
       "\n",
       "#sk-container-id-2 div.sk-toggleable__content.fitted {\n",
       "  /* fitted */\n",
       "  background-color: var(--sklearn-color-fitted-level-0);\n",
       "}\n",
       "\n",
       "#sk-container-id-2 div.sk-toggleable__content pre {\n",
       "  margin: 0.2em;\n",
       "  border-radius: 0.25em;\n",
       "  color: var(--sklearn-color-text);\n",
       "  /* unfitted */\n",
       "  background-color: var(--sklearn-color-unfitted-level-0);\n",
       "}\n",
       "\n",
       "#sk-container-id-2 div.sk-toggleable__content.fitted pre {\n",
       "  /* unfitted */\n",
       "  background-color: var(--sklearn-color-fitted-level-0);\n",
       "}\n",
       "\n",
       "#sk-container-id-2 input.sk-toggleable__control:checked~div.sk-toggleable__content {\n",
       "  /* Expand drop-down */\n",
       "  max-height: 200px;\n",
       "  max-width: 100%;\n",
       "  overflow: auto;\n",
       "}\n",
       "\n",
       "#sk-container-id-2 input.sk-toggleable__control:checked~label.sk-toggleable__label-arrow:before {\n",
       "  content: \"▾\";\n",
       "}\n",
       "\n",
       "/* Pipeline/ColumnTransformer-specific style */\n",
       "\n",
       "#sk-container-id-2 div.sk-label input.sk-toggleable__control:checked~label.sk-toggleable__label {\n",
       "  color: var(--sklearn-color-text);\n",
       "  background-color: var(--sklearn-color-unfitted-level-2);\n",
       "}\n",
       "\n",
       "#sk-container-id-2 div.sk-label.fitted input.sk-toggleable__control:checked~label.sk-toggleable__label {\n",
       "  background-color: var(--sklearn-color-fitted-level-2);\n",
       "}\n",
       "\n",
       "/* Estimator-specific style */\n",
       "\n",
       "/* Colorize estimator box */\n",
       "#sk-container-id-2 div.sk-estimator input.sk-toggleable__control:checked~label.sk-toggleable__label {\n",
       "  /* unfitted */\n",
       "  background-color: var(--sklearn-color-unfitted-level-2);\n",
       "}\n",
       "\n",
       "#sk-container-id-2 div.sk-estimator.fitted input.sk-toggleable__control:checked~label.sk-toggleable__label {\n",
       "  /* fitted */\n",
       "  background-color: var(--sklearn-color-fitted-level-2);\n",
       "}\n",
       "\n",
       "#sk-container-id-2 div.sk-label label.sk-toggleable__label,\n",
       "#sk-container-id-2 div.sk-label label {\n",
       "  /* The background is the default theme color */\n",
       "  color: var(--sklearn-color-text-on-default-background);\n",
       "}\n",
       "\n",
       "/* On hover, darken the color of the background */\n",
       "#sk-container-id-2 div.sk-label:hover label.sk-toggleable__label {\n",
       "  color: var(--sklearn-color-text);\n",
       "  background-color: var(--sklearn-color-unfitted-level-2);\n",
       "}\n",
       "\n",
       "/* Label box, darken color on hover, fitted */\n",
       "#sk-container-id-2 div.sk-label.fitted:hover label.sk-toggleable__label.fitted {\n",
       "  color: var(--sklearn-color-text);\n",
       "  background-color: var(--sklearn-color-fitted-level-2);\n",
       "}\n",
       "\n",
       "/* Estimator label */\n",
       "\n",
       "#sk-container-id-2 div.sk-label label {\n",
       "  font-family: monospace;\n",
       "  font-weight: bold;\n",
       "  display: inline-block;\n",
       "  line-height: 1.2em;\n",
       "}\n",
       "\n",
       "#sk-container-id-2 div.sk-label-container {\n",
       "  text-align: center;\n",
       "}\n",
       "\n",
       "/* Estimator-specific */\n",
       "#sk-container-id-2 div.sk-estimator {\n",
       "  font-family: monospace;\n",
       "  border: 1px dotted var(--sklearn-color-border-box);\n",
       "  border-radius: 0.25em;\n",
       "  box-sizing: border-box;\n",
       "  margin-bottom: 0.5em;\n",
       "  /* unfitted */\n",
       "  background-color: var(--sklearn-color-unfitted-level-0);\n",
       "}\n",
       "\n",
       "#sk-container-id-2 div.sk-estimator.fitted {\n",
       "  /* fitted */\n",
       "  background-color: var(--sklearn-color-fitted-level-0);\n",
       "}\n",
       "\n",
       "/* on hover */\n",
       "#sk-container-id-2 div.sk-estimator:hover {\n",
       "  /* unfitted */\n",
       "  background-color: var(--sklearn-color-unfitted-level-2);\n",
       "}\n",
       "\n",
       "#sk-container-id-2 div.sk-estimator.fitted:hover {\n",
       "  /* fitted */\n",
       "  background-color: var(--sklearn-color-fitted-level-2);\n",
       "}\n",
       "\n",
       "/* Specification for estimator info (e.g. \"i\" and \"?\") */\n",
       "\n",
       "/* Common style for \"i\" and \"?\" */\n",
       "\n",
       ".sk-estimator-doc-link,\n",
       "a:link.sk-estimator-doc-link,\n",
       "a:visited.sk-estimator-doc-link {\n",
       "  float: right;\n",
       "  font-size: smaller;\n",
       "  line-height: 1em;\n",
       "  font-family: monospace;\n",
       "  background-color: var(--sklearn-color-background);\n",
       "  border-radius: 1em;\n",
       "  height: 1em;\n",
       "  width: 1em;\n",
       "  text-decoration: none !important;\n",
       "  margin-left: 1ex;\n",
       "  /* unfitted */\n",
       "  border: var(--sklearn-color-unfitted-level-1) 1pt solid;\n",
       "  color: var(--sklearn-color-unfitted-level-1);\n",
       "}\n",
       "\n",
       ".sk-estimator-doc-link.fitted,\n",
       "a:link.sk-estimator-doc-link.fitted,\n",
       "a:visited.sk-estimator-doc-link.fitted {\n",
       "  /* fitted */\n",
       "  border: var(--sklearn-color-fitted-level-1) 1pt solid;\n",
       "  color: var(--sklearn-color-fitted-level-1);\n",
       "}\n",
       "\n",
       "/* On hover */\n",
       "div.sk-estimator:hover .sk-estimator-doc-link:hover,\n",
       ".sk-estimator-doc-link:hover,\n",
       "div.sk-label-container:hover .sk-estimator-doc-link:hover,\n",
       ".sk-estimator-doc-link:hover {\n",
       "  /* unfitted */\n",
       "  background-color: var(--sklearn-color-unfitted-level-3);\n",
       "  color: var(--sklearn-color-background);\n",
       "  text-decoration: none;\n",
       "}\n",
       "\n",
       "div.sk-estimator.fitted:hover .sk-estimator-doc-link.fitted:hover,\n",
       ".sk-estimator-doc-link.fitted:hover,\n",
       "div.sk-label-container:hover .sk-estimator-doc-link.fitted:hover,\n",
       ".sk-estimator-doc-link.fitted:hover {\n",
       "  /* fitted */\n",
       "  background-color: var(--sklearn-color-fitted-level-3);\n",
       "  color: var(--sklearn-color-background);\n",
       "  text-decoration: none;\n",
       "}\n",
       "\n",
       "/* Span, style for the box shown on hovering the info icon */\n",
       ".sk-estimator-doc-link span {\n",
       "  display: none;\n",
       "  z-index: 9999;\n",
       "  position: relative;\n",
       "  font-weight: normal;\n",
       "  right: .2ex;\n",
       "  padding: .5ex;\n",
       "  margin: .5ex;\n",
       "  width: min-content;\n",
       "  min-width: 20ex;\n",
       "  max-width: 50ex;\n",
       "  color: var(--sklearn-color-text);\n",
       "  box-shadow: 2pt 2pt 4pt #999;\n",
       "  /* unfitted */\n",
       "  background: var(--sklearn-color-unfitted-level-0);\n",
       "  border: .5pt solid var(--sklearn-color-unfitted-level-3);\n",
       "}\n",
       "\n",
       ".sk-estimator-doc-link.fitted span {\n",
       "  /* fitted */\n",
       "  background: var(--sklearn-color-fitted-level-0);\n",
       "  border: var(--sklearn-color-fitted-level-3);\n",
       "}\n",
       "\n",
       ".sk-estimator-doc-link:hover span {\n",
       "  display: block;\n",
       "}\n",
       "\n",
       "/* \"?\"-specific style due to the `<a>` HTML tag */\n",
       "\n",
       "#sk-container-id-2 a.estimator_doc_link {\n",
       "  float: right;\n",
       "  font-size: 1rem;\n",
       "  line-height: 1em;\n",
       "  font-family: monospace;\n",
       "  background-color: var(--sklearn-color-background);\n",
       "  border-radius: 1rem;\n",
       "  height: 1rem;\n",
       "  width: 1rem;\n",
       "  text-decoration: none;\n",
       "  /* unfitted */\n",
       "  color: var(--sklearn-color-unfitted-level-1);\n",
       "  border: var(--sklearn-color-unfitted-level-1) 1pt solid;\n",
       "}\n",
       "\n",
       "#sk-container-id-2 a.estimator_doc_link.fitted {\n",
       "  /* fitted */\n",
       "  border: var(--sklearn-color-fitted-level-1) 1pt solid;\n",
       "  color: var(--sklearn-color-fitted-level-1);\n",
       "}\n",
       "\n",
       "/* On hover */\n",
       "#sk-container-id-2 a.estimator_doc_link:hover {\n",
       "  /* unfitted */\n",
       "  background-color: var(--sklearn-color-unfitted-level-3);\n",
       "  color: var(--sklearn-color-background);\n",
       "  text-decoration: none;\n",
       "}\n",
       "\n",
       "#sk-container-id-2 a.estimator_doc_link.fitted:hover {\n",
       "  /* fitted */\n",
       "  background-color: var(--sklearn-color-fitted-level-3);\n",
       "}\n",
       "</style><div id=\"sk-container-id-2\" class=\"sk-top-container\"><div class=\"sk-text-repr-fallback\"><pre>DecisionTreeClassifier()</pre><b>In a Jupyter environment, please rerun this cell to show the HTML representation or trust the notebook. <br />On GitHub, the HTML representation is unable to render, please try loading this page with nbviewer.org.</b></div><div class=\"sk-container\" hidden><div class=\"sk-item\"><div class=\"sk-estimator fitted sk-toggleable\"><input class=\"sk-toggleable__control sk-hidden--visually\" id=\"sk-estimator-id-2\" type=\"checkbox\" checked><label for=\"sk-estimator-id-2\" class=\"sk-toggleable__label fitted sk-toggleable__label-arrow fitted\">&nbsp;&nbsp;DecisionTreeClassifier<a class=\"sk-estimator-doc-link fitted\" rel=\"noreferrer\" target=\"_blank\" href=\"https://scikit-learn.org/1.5/modules/generated/sklearn.tree.DecisionTreeClassifier.html\">?<span>Documentation for DecisionTreeClassifier</span></a><span class=\"sk-estimator-doc-link fitted\">i<span>Fitted</span></span></label><div class=\"sk-toggleable__content fitted\"><pre>DecisionTreeClassifier()</pre></div> </div></div></div></div>"
      ],
      "text/plain": [
       "DecisionTreeClassifier()"
      ]
     },
     "execution_count": 98,
     "metadata": {},
     "output_type": "execute_result"
    }
   ],
   "source": [
    "clf.fit(X_train, y_train)"
   ]
  },
  {
   "cell_type": "markdown",
   "id": "a8b70c69-f460-4fc9-8c07-7122bbd4c8a9",
   "metadata": {
    "id": "a8b70c69-f460-4fc9-8c07-7122bbd4c8a9"
   },
   "source": [
    "## Lets use trained model for the prediction part\n",
    "* 💡 Get predictions via the method *predict()*"
   ]
  },
  {
   "cell_type": "code",
   "execution_count": null,
   "id": "33bcfaf7-5c8e-4c7b-9d9c-aca6edfbd92a",
   "metadata": {
    "id": "33bcfaf7-5c8e-4c7b-9d9c-aca6edfbd92a"
   },
   "outputs": [],
   "source": [
    "y_pred = clf.predict(X_test)"
   ]
  },
  {
   "cell_type": "markdown",
   "id": "c3791870-d3b6-4fd7-91c5-67a9424c7888",
   "metadata": {
    "id": "c3791870-d3b6-4fd7-91c5-67a9424c7888"
   },
   "source": [
    "# 🔎 Can we evaluate our model?\n",
    "* How good is it?\n",
    "* What does accuracy mean?"
   ]
  },
  {
   "cell_type": "code",
   "execution_count": null,
   "id": "27d1b774-53ba-4ae6-88a6-8c42c64a9220",
   "metadata": {
    "colab": {
     "base_uri": "https://localhost:8080/"
    },
    "executionInfo": {
     "elapsed": 128,
     "status": "ok",
     "timestamp": 1730970271416,
     "user": {
      "displayName": "HeXaMeThYlEnTrIpEr0x0dIaMiN",
      "userId": "15629405324849936436"
     },
     "user_tz": -60
    },
    "id": "27d1b774-53ba-4ae6-88a6-8c42c64a9220",
    "outputId": "1c0c54a1-5566-408b-fbbf-0e59b1d25539"
   },
   "outputs": [
    {
     "data": {
      "text/plain": [
       "0.9166666666666666"
      ]
     },
     "execution_count": 100,
     "metadata": {},
     "output_type": "execute_result"
    }
   ],
   "source": [
    "accuracy_score(y_test, y_pred)"
   ]
  },
  {
   "cell_type": "markdown",
   "id": "9485e5c7-e2a7-40bb-9105-32121aadd6b2",
   "metadata": {
    "id": "9485e5c7-e2a7-40bb-9105-32121aadd6b2"
   },
   "source": [
    "## How does the trained Decision tree look like?"
   ]
  },
  {
   "cell_type": "markdown",
   "id": "55a9eb03-cf24-40b1-bebf-9144028877a1",
   "metadata": {
    "id": "55a9eb03-cf24-40b1-bebf-9144028877a1"
   },
   "source": [
    "### We can use either text representation as follows..."
   ]
  },
  {
   "cell_type": "code",
   "execution_count": null,
   "id": "09263452-a660-4933-bd36-01eca1e54d81",
   "metadata": {
    "colab": {
     "base_uri": "https://localhost:8080/"
    },
    "executionInfo": {
     "elapsed": 71,
     "status": "ok",
     "timestamp": 1730970271416,
     "user": {
      "displayName": "HeXaMeThYlEnTrIpEr0x0dIaMiN",
      "userId": "15629405324849936436"
     },
     "user_tz": -60
    },
    "id": "09263452-a660-4933-bd36-01eca1e54d81",
    "outputId": "d7d665ca-7e5b-42b5-8361-c486a856ca15"
   },
   "outputs": [
    {
     "name": "stdout",
     "output_type": "stream",
     "text": [
      "|--- petal_width <= 0.80\n",
      "|   |--- weights: [29.00, 0.00, 0.00] class: setosa\n",
      "|--- petal_width >  0.80\n",
      "|   |--- petal_width <= 1.75\n",
      "|   |   |--- weights: [0.00, 30.00, 0.00] class: versicolor\n",
      "|   |--- petal_width >  1.75\n",
      "|   |   |--- petal_length <= 4.85\n",
      "|   |   |   |--- sepal_length <= 5.95\n",
      "|   |   |   |   |--- weights: [0.00, 1.00, 0.00] class: versicolor\n",
      "|   |   |   |--- sepal_length >  5.95\n",
      "|   |   |   |   |--- weights: [0.00, 0.00, 2.00] class: virginica\n",
      "|   |   |--- petal_length >  4.85\n",
      "|   |   |   |--- weights: [0.00, 0.00, 28.00] class: virginica\n",
      "\n"
     ]
    }
   ],
   "source": [
    "print(export_text(clf, show_weights=True, feature_names=list(X.columns.values)))"
   ]
  },
  {
   "cell_type": "markdown",
   "id": "282b0d26-9255-4113-bcc2-014ae75550b9",
   "metadata": {
    "id": "282b0d26-9255-4113-bcc2-014ae75550b9"
   },
   "source": [
    "### ...or more convinient graphical diagram 😊"
   ]
  },
  {
   "cell_type": "code",
   "execution_count": null,
   "id": "94a0eeb2-757d-47d3-aae1-6d2c8afd8bce",
   "metadata": {
    "colab": {
     "base_uri": "https://localhost:8080/",
     "height": 1000
    },
    "executionInfo": {
     "elapsed": 1581,
     "status": "ok",
     "timestamp": 1730970272954,
     "user": {
      "displayName": "HeXaMeThYlEnTrIpEr0x0dIaMiN",
      "userId": "15629405324849936436"
     },
     "user_tz": -60
    },
    "id": "94a0eeb2-757d-47d3-aae1-6d2c8afd8bce",
    "outputId": "cb3cee3f-bdeb-40b1-92be-27451e21933e"
   },
   "outputs": [
    {
     "data": {
      "image/png": "[encoded data removed]",
      "text/plain": [
       "<Figure size 2500x2000 with 1 Axes>"
      ]
     },
     "metadata": {},
     "output_type": "display_data"
    }
   ],
   "source": [
    "fig = plt.figure(figsize=(25,20))\n",
    "_ = plot_tree(clf, feature_names=list(X.columns.values), filled=True, class_names=clf.classes_)"
   ]
  },
  {
   "cell_type": "markdown",
   "id": "4a65dc8f-cb95-40d7-ba81-c779df06e77b",
   "metadata": {
    "id": "4a65dc8f-cb95-40d7-ba81-c779df06e77b",
    "tags": []
   },
   "source": [
    "# ✅ Task (2p)\n",
    "* Finish the implementation task from the exercise"
   ]
  }
 ],
 "metadata": {
  "colab": {
   "provenance": [
    {
     "file_id": "https://github.com/rasvob/VSB-FEI-Fundamentals-of-Machine-Learning-Exercises/blob/master/fml_07.ipynb",
     "timestamp": 1730967482061
    }
   ]
  },
  "kernelspec": {
   "display_name": "Python 3 (ipykernel)",
   "language": "python",
   "name": "python3"
  },
  "language_info": {
   "codemirror_mode": {
    "name": "ipython",
    "version": 3
   },
   "file_extension": ".py",
   "mimetype": "text/x-python",
   "name": "python",
   "nbconvert_exporter": "python",
   "pygments_lexer": "ipython3",
   "version": "3.12.7"
  }
 },
 "nbformat": 4,
 "nbformat_minor": 5
}
